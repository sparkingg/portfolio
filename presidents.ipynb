{
  "nbformat": 4,
  "nbformat_minor": 0,
  "metadata": {
    "kernelspec": {
      "display_name": "Python 3",
      "language": "python",
      "name": "python3"
    },
    "language_info": {
      "codemirror_mode": {
        "name": "ipython",
        "version": 3
      },
      "file_extension": ".py",
      "mimetype": "text/x-python",
      "name": "python",
      "nbconvert_exporter": "python",
      "pygments_lexer": "ipython3",
      "version": "3.8.5"
    },
    "colab": {
      "name": "lab2_big_data.ipynb",
      "provenance": [],
      "collapsed_sections": []
    }
  },
  "cells": [
    {
      "cell_type": "markdown",
      "metadata": {
        "id": "zFw0xXk9HJAA"
      },
      "source": [
        "# Исторические данные о президентах стран\n",
        "\n",
        "Набор данных «Правители, выборы и нерегулярное управление» (REIGN) описывает политические условия в каждой стране каждый месяц. Эти условия включают срок полномочий и личные характеристики мировых лидеров, типы политических институтов и действующих политических режимов, результаты выборов и объявления о выборах, а также нерегулярные события, такие как перевороты, попытки переворота и другие насильственные конфликты ». Последний набор данных охватывает 200 стран, с 1950 года по настоящее время, и включает в себя десятки переменных для каждого ежемесячного снимка.\n",
        "\n",
        "Данные взяты [отсюда](https://oefresearch.org/datasets/reign). Описание всех полей в оригинале можно найти [тут](https://oefdatascience.github.io/REIGN.github.io/menu/REIGN_CODEBOOK.html).\n",
        "\n",
        "*Дисклеймер. Информация предоставлена исключительно в целях обучения студентов работе с большими наборами данных. Содержание файлов не несет в себе никакой смысловой нагрузки и не преследует никаких политиечских целей. Ответственность за содержимое несут исключительно авторы сайта oefresearch.org.*\n",
        "\n",
        "Поля, описывающие данные (Внимание!! Представлен приблизительный перевод. Оригинал можно найти в [документации](https://oefdatascience.github.io/REIGN.github.io/menu/REIGN_CODEBOOK.html)):\n",
        "\n",
        "* `ccode` - число от 1 до 3 символов - уникальный ИД одной из 201 рассмотренных стран\n",
        "* `country` - название страны\n",
        "* `leader` - имя / фамилия лидера. Это поле не уникальное, поэтому при сортировке / группировке нужно учитывать страну и время для однозначной идентификации лидера.\n",
        "* `year` - календарный год от 1950 до 2020\n",
        "* `month` - месяц, число от 1 до 12\n",
        "* `elected` - 1 для даты, когда проходили выборы президента, иначе 0\n",
        "* `age` - возраст президента\n",
        "* `male` - 1 если мужчина, 0 если женщина\n",
        "* `militarycareer` - 1 если правитель в истории своей карьеры работал в силовых структурах (армия, полиция, спецслужбы, ...)\n",
        "* `tenure_months` - количество месяцев сколько человек у власти\n",
        "* `government` - один из 16 типов правления. \n",
        "    * Presidential Democracy - демократия, при которой основными полномочиями наделен президент\n",
        "    * Parliamentary Democracy - демократия, при которой парламент более полномочен чем президент\n",
        "    * Personalist Systems - власть в руках одного человека - не монарха\n",
        "    * Monarchies - монархия\n",
        "    * Single-Party Systems - власть принадлежит одной пардити.\n",
        "    * Oligarchies - Власть принадлежит одному человеку, либо партии, в которой этот человек стоит во главе. Человек представляет интересы элиты.\n",
        "    * Party-Personalist Hybrids - среднее между партией и диктаторством, когда власть принадлежит партии, но полностью подконтрольной одному человеку\n",
        "    * Military Juntas - во главе стоит военный, но его действия проверяются другими военными службами\n",
        "    * Indirect Military Juntas - по факту власть принадлежит военным, но по факту ими правят гражданские лица\n",
        "    * Personalist-Military Hybrids - смесь военной и диктаторской системы\n",
        "    * Party-Military Hybrids - смесь военной и партийной власти\n",
        "    * Party-Personalist-Military Hybrids - смесь диктаторской и партийной власти\n",
        "    * Warlordism - для стран, в которых военное положение разрушило основную форму правления.\n",
        "    * Foreign-Occupied - когда зарубежные силы захватывают власть\n",
        "    * Civilian Provisional или Military Provisional - временные режимы правления, которые закрепляются в стране на время перехода к демократии (обычно) либо следуют за переворотами и конституционными кризисами.\n",
        "* `anticipation` - ожидание. Значение равно 1 если в течение следующих шести месяцев ожидаются перевыборы. Для тех стран, где выборы происходят не через регулярные промежутки времени\n",
        "* `ref_ant` - 1 если в течение следующих 6 месяцев ожидается референдум\n",
        "* `leg_ant` - 1 если в течение следующих 6 месяцев ожидаются выборы, предписанные основным законом страны\n",
        "* `exec_ant` - 1 если в течение следующих 6 месяцев ожидаются квалификационные выборы\n",
        "* `irreg_lead_ant` - 1 если в течение следующих нескольких месяцев ожидаются внеочередные выборы\n",
        "* `election_now` - 1 если выборы проходят в текущем месяце\n",
        "* `election_recent` - 1 если выборы прошли менее 6 месяцев назад\n",
        "* `leg_recent`, `exec_recent`, `lead_recent`, `ref_recent`, `direct_recent`, `indirect_recent` - 1 устанавливается в течение 6 месяцев после выборов разных типов власти \n",
        "* `victory_recent` - 1 в течение 6 месяцев после повторной победы правящей патии либо лидера\n",
        "* `defeat_recent` - 1 в течение 6 месяцев после поражения правящей патии либо лидера (если сменилось правление)\n",
        "* `change_recent` - 1 в течение 6 месяцев после выборов, которые повлекли за собой смену власти\n",
        "* `nochange_recent` - 1 в течение 6 месяцев после выборов, которые не повлекли за собой смену власти\n",
        "* `delayed` - 1 следующие 6 месяцев после выборов, которые были отменены либо задержаны на два или более месяца\n",
        "* `lastelection` - количество месяцев с момента последних прошедших отборов (выборы на высшую должность или референдум, который расширит исполнительную власть), или, в отсутствие предыдущих выборов, количество месяцев с момента последнего изменения политической системы.\n",
        "* `loss` - это количество месяцев с момента, когда действующая политическая партия или лидер в последний раз проиграли выборы или, в отсутствие предыдущих потерь, количество месяцев с момента последнего изменения политической системы\n",
        "* `irregular` - аналогично loss, но с момента последнего переворота в стране\n",
        "* `prev_conflict` - равняется количеству продолжающихся ожесточенных гражданских стычек, произошедших где-то в стране за предыдущий месяц. Эта мера колеблется от 0 (без предыдущих конфликтов) до любого положительного целого числа, указывающего на наличие конфликтов. По состоянию на 03 июня 2020 года максимальное число гражданских конфликтов произошедших в стране составляет 9.\n",
        "* `pt_suc` - 1 если в этом месяце произошел успешный переворот с лидером\n",
        "* `pt_attempt` - 1 если в этом месяце произошла попытка переворота против лидера\n",
        "* `precip` - измеряет Стандартизированный индекс осадков (SPI) для каждой страны в месяц. Значение 0 соответствует исторически среднему уровню осадков в заданном месяце. Положительные значения выше 0 указывают на большее количество осадков, чем исторически ожидалось, причем значения выше 1,96 в целом соответствуют статистически значимому увеличению количества осадков. И наоборот, отрицательные значения можно интерпретировать как указание на меньшее количество осадков, чем ожидалось. Исходные данные взяты из данных наблюдений NOAA PREC/L, при этом будущие месяцы прогнозируются с использованием оптимизированных для конкретной страны моделей ARIMA. По состоянию на 03 июня 2020 года наземные данные заканчиваются в апреле 2020 года, а прогноз - с мая по декабрь 2020 года.\n",
        "* `couprisk` - это оценочная вероятность риска попытки военного переворота, имеющей место в стране в течение месяца. couprisk оценивается с помощью классификатора машинного обучения и алгоритма суммирования, который объединяет индивидуальные прогнозы a) алгоритма случайных лесов, b) логистической регрессионной модели и c) линейной вероятностной регрессионной модели. Обобщенное уравнение оценки затем используется для объединения взвешенных вероятностей каждой предыдущей модели с целью использования сильных сторон каждой модели при сведении к минимуму плохих прогнозов. Обучение модели осуществляется путем перекрестного тестирования с использованием данных за 1950 - 1974 гг. в качестве начального обучающего окна. Таким образом, оценка `couprisk` начинается только с января 1975 года и продолжается до июня 2020 года.\n",
        "* `pctile_risk` - соответствует процентному риску для каждой страны по оценке вероятности военного переворота в этом месяце. Это стандартный процентиль риска, который варьируется от 0 (риск менее 100% стран в этом месяце) до 1 (риск более 100% всех остальных стран в этом месяце). Поскольку наша оценка риска военного переворота является несколько консервативной, pctile_риск дает возможность изучить большее количество риска военного переворота по сравнению со всеми другими странами в этом месяце."
      ]
    },
    {
      "cell_type": "code",
      "metadata": {
        "scrolled": true,
        "id": "QTJh0zZKHJAD"
      },
      "source": [
        "import pandas as pd\n",
        "pd.set_option('display.max_columns', 50)\n",
        "df = pd.read_csv(\"REIGN_2020_10.csv\")"
      ],
      "execution_count": null,
      "outputs": []
    },
    {
      "cell_type": "code",
      "metadata": {
        "id": "mwIB26GUHJAJ",
        "colab": {
          "base_uri": "https://localhost:8080/"
        },
        "outputId": "22777df1-589b-40f9-b33e-8d531c2780b9"
      },
      "source": [
        "df.shape"
      ],
      "execution_count": null,
      "outputs": [
        {
          "output_type": "execute_result",
          "data": {
            "text/plain": [
              "(136623, 38)"
            ]
          },
          "metadata": {
            "tags": []
          },
          "execution_count": 132
        }
      ]
    },
    {
      "cell_type": "code",
      "metadata": {
        "id": "uuwRSsSvHJAO",
        "colab": {
          "base_uri": "https://localhost:8080/",
          "height": 1000
        },
        "outputId": "84882c3b-d6ad-4071-c4b9-5900dd8d34f9"
      },
      "source": [
        "df.head(5).T"
      ],
      "execution_count": null,
      "outputs": [
        {
          "output_type": "execute_result",
          "data": {
            "text/html": [
              "<div>\n",
              "<style scoped>\n",
              "    .dataframe tbody tr th:only-of-type {\n",
              "        vertical-align: middle;\n",
              "    }\n",
              "\n",
              "    .dataframe tbody tr th {\n",
              "        vertical-align: top;\n",
              "    }\n",
              "\n",
              "    .dataframe thead th {\n",
              "        text-align: right;\n",
              "    }\n",
              "</style>\n",
              "<table border=\"1\" class=\"dataframe\">\n",
              "  <thead>\n",
              "    <tr style=\"text-align: right;\">\n",
              "      <th></th>\n",
              "      <th>0</th>\n",
              "      <th>1</th>\n",
              "      <th>2</th>\n",
              "      <th>3</th>\n",
              "      <th>4</th>\n",
              "    </tr>\n",
              "  </thead>\n",
              "  <tbody>\n",
              "    <tr>\n",
              "      <th>ccode</th>\n",
              "      <td>2</td>\n",
              "      <td>2</td>\n",
              "      <td>2</td>\n",
              "      <td>2</td>\n",
              "      <td>2</td>\n",
              "    </tr>\n",
              "    <tr>\n",
              "      <th>country</th>\n",
              "      <td>USA</td>\n",
              "      <td>USA</td>\n",
              "      <td>USA</td>\n",
              "      <td>USA</td>\n",
              "      <td>USA</td>\n",
              "    </tr>\n",
              "    <tr>\n",
              "      <th>leader</th>\n",
              "      <td>Truman</td>\n",
              "      <td>Truman</td>\n",
              "      <td>Truman</td>\n",
              "      <td>Truman</td>\n",
              "      <td>Truman</td>\n",
              "    </tr>\n",
              "    <tr>\n",
              "      <th>year</th>\n",
              "      <td>1950</td>\n",
              "      <td>1950</td>\n",
              "      <td>1950</td>\n",
              "      <td>1950</td>\n",
              "      <td>1950</td>\n",
              "    </tr>\n",
              "    <tr>\n",
              "      <th>month</th>\n",
              "      <td>1</td>\n",
              "      <td>2</td>\n",
              "      <td>3</td>\n",
              "      <td>4</td>\n",
              "      <td>5</td>\n",
              "    </tr>\n",
              "    <tr>\n",
              "      <th>elected</th>\n",
              "      <td>1</td>\n",
              "      <td>1</td>\n",
              "      <td>1</td>\n",
              "      <td>1</td>\n",
              "      <td>1</td>\n",
              "    </tr>\n",
              "    <tr>\n",
              "      <th>age</th>\n",
              "      <td>66</td>\n",
              "      <td>66</td>\n",
              "      <td>66</td>\n",
              "      <td>66</td>\n",
              "      <td>66</td>\n",
              "    </tr>\n",
              "    <tr>\n",
              "      <th>male</th>\n",
              "      <td>1</td>\n",
              "      <td>1</td>\n",
              "      <td>1</td>\n",
              "      <td>1</td>\n",
              "      <td>1</td>\n",
              "    </tr>\n",
              "    <tr>\n",
              "      <th>militarycareer</th>\n",
              "      <td>0</td>\n",
              "      <td>0</td>\n",
              "      <td>0</td>\n",
              "      <td>0</td>\n",
              "      <td>0</td>\n",
              "    </tr>\n",
              "    <tr>\n",
              "      <th>tenure_months</th>\n",
              "      <td>58</td>\n",
              "      <td>59</td>\n",
              "      <td>60</td>\n",
              "      <td>61</td>\n",
              "      <td>62</td>\n",
              "    </tr>\n",
              "    <tr>\n",
              "      <th>government</th>\n",
              "      <td>Presidential Democracy</td>\n",
              "      <td>Presidential Democracy</td>\n",
              "      <td>Presidential Democracy</td>\n",
              "      <td>Presidential Democracy</td>\n",
              "      <td>Presidential Democracy</td>\n",
              "    </tr>\n",
              "    <tr>\n",
              "      <th>anticipation</th>\n",
              "      <td>0</td>\n",
              "      <td>0</td>\n",
              "      <td>0</td>\n",
              "      <td>0</td>\n",
              "      <td>0</td>\n",
              "    </tr>\n",
              "    <tr>\n",
              "      <th>ref_ant</th>\n",
              "      <td>0</td>\n",
              "      <td>0</td>\n",
              "      <td>0</td>\n",
              "      <td>0</td>\n",
              "      <td>0</td>\n",
              "    </tr>\n",
              "    <tr>\n",
              "      <th>leg_ant</th>\n",
              "      <td>0</td>\n",
              "      <td>0</td>\n",
              "      <td>0</td>\n",
              "      <td>0</td>\n",
              "      <td>0</td>\n",
              "    </tr>\n",
              "    <tr>\n",
              "      <th>exec_ant</th>\n",
              "      <td>0</td>\n",
              "      <td>0</td>\n",
              "      <td>0</td>\n",
              "      <td>0</td>\n",
              "      <td>0</td>\n",
              "    </tr>\n",
              "    <tr>\n",
              "      <th>irreg_lead_ant</th>\n",
              "      <td>0</td>\n",
              "      <td>0</td>\n",
              "      <td>0</td>\n",
              "      <td>0</td>\n",
              "      <td>0</td>\n",
              "    </tr>\n",
              "    <tr>\n",
              "      <th>election_now</th>\n",
              "      <td>0</td>\n",
              "      <td>0</td>\n",
              "      <td>0</td>\n",
              "      <td>0</td>\n",
              "      <td>0</td>\n",
              "    </tr>\n",
              "    <tr>\n",
              "      <th>election_recent</th>\n",
              "      <td>0</td>\n",
              "      <td>0</td>\n",
              "      <td>0</td>\n",
              "      <td>0</td>\n",
              "      <td>0</td>\n",
              "    </tr>\n",
              "    <tr>\n",
              "      <th>leg_recent</th>\n",
              "      <td>0</td>\n",
              "      <td>0</td>\n",
              "      <td>0</td>\n",
              "      <td>0</td>\n",
              "      <td>0</td>\n",
              "    </tr>\n",
              "    <tr>\n",
              "      <th>exec_recent</th>\n",
              "      <td>0</td>\n",
              "      <td>0</td>\n",
              "      <td>0</td>\n",
              "      <td>0</td>\n",
              "      <td>0</td>\n",
              "    </tr>\n",
              "    <tr>\n",
              "      <th>lead_recent</th>\n",
              "      <td>0</td>\n",
              "      <td>0</td>\n",
              "      <td>0</td>\n",
              "      <td>0</td>\n",
              "      <td>0</td>\n",
              "    </tr>\n",
              "    <tr>\n",
              "      <th>ref_recent</th>\n",
              "      <td>0</td>\n",
              "      <td>0</td>\n",
              "      <td>0</td>\n",
              "      <td>0</td>\n",
              "      <td>0</td>\n",
              "    </tr>\n",
              "    <tr>\n",
              "      <th>direct_recent</th>\n",
              "      <td>0</td>\n",
              "      <td>0</td>\n",
              "      <td>0</td>\n",
              "      <td>0</td>\n",
              "      <td>0</td>\n",
              "    </tr>\n",
              "    <tr>\n",
              "      <th>indirect_recent</th>\n",
              "      <td>0</td>\n",
              "      <td>0</td>\n",
              "      <td>0</td>\n",
              "      <td>0</td>\n",
              "      <td>0</td>\n",
              "    </tr>\n",
              "    <tr>\n",
              "      <th>victory_recent</th>\n",
              "      <td>0</td>\n",
              "      <td>0</td>\n",
              "      <td>0</td>\n",
              "      <td>0</td>\n",
              "      <td>0</td>\n",
              "    </tr>\n",
              "    <tr>\n",
              "      <th>defeat_recent</th>\n",
              "      <td>0</td>\n",
              "      <td>0</td>\n",
              "      <td>0</td>\n",
              "      <td>0</td>\n",
              "      <td>0</td>\n",
              "    </tr>\n",
              "    <tr>\n",
              "      <th>change_recent</th>\n",
              "      <td>0</td>\n",
              "      <td>0</td>\n",
              "      <td>0</td>\n",
              "      <td>0</td>\n",
              "      <td>0</td>\n",
              "    </tr>\n",
              "    <tr>\n",
              "      <th>nochange_recent</th>\n",
              "      <td>0</td>\n",
              "      <td>0</td>\n",
              "      <td>0</td>\n",
              "      <td>0</td>\n",
              "      <td>0</td>\n",
              "    </tr>\n",
              "    <tr>\n",
              "      <th>delayed</th>\n",
              "      <td>0</td>\n",
              "      <td>0</td>\n",
              "      <td>0</td>\n",
              "      <td>0</td>\n",
              "      <td>0</td>\n",
              "    </tr>\n",
              "    <tr>\n",
              "      <th>lastelection</th>\n",
              "      <td>2.63906</td>\n",
              "      <td>2.70805</td>\n",
              "      <td>2.77259</td>\n",
              "      <td>2.83321</td>\n",
              "      <td>2.89037</td>\n",
              "    </tr>\n",
              "    <tr>\n",
              "      <th>loss</th>\n",
              "      <td>5.32788</td>\n",
              "      <td>5.33272</td>\n",
              "      <td>5.33754</td>\n",
              "      <td>5.34233</td>\n",
              "      <td>5.34711</td>\n",
              "    </tr>\n",
              "    <tr>\n",
              "      <th>irregular</th>\n",
              "      <td>7.56579</td>\n",
              "      <td>7.56631</td>\n",
              "      <td>7.56683</td>\n",
              "      <td>7.56735</td>\n",
              "      <td>7.56786</td>\n",
              "    </tr>\n",
              "    <tr>\n",
              "      <th>prev_conflict</th>\n",
              "      <td>0</td>\n",
              "      <td>0</td>\n",
              "      <td>0</td>\n",
              "      <td>0</td>\n",
              "      <td>0</td>\n",
              "    </tr>\n",
              "    <tr>\n",
              "      <th>pt_suc</th>\n",
              "      <td>0</td>\n",
              "      <td>0</td>\n",
              "      <td>0</td>\n",
              "      <td>0</td>\n",
              "      <td>0</td>\n",
              "    </tr>\n",
              "    <tr>\n",
              "      <th>pt_attempt</th>\n",
              "      <td>0</td>\n",
              "      <td>0</td>\n",
              "      <td>0</td>\n",
              "      <td>0</td>\n",
              "      <td>0</td>\n",
              "    </tr>\n",
              "    <tr>\n",
              "      <th>precip</th>\n",
              "      <td>-0.0690576</td>\n",
              "      <td>-0.113721</td>\n",
              "      <td>-0.108042</td>\n",
              "      <td>-0.0416001</td>\n",
              "      <td>-0.129703</td>\n",
              "    </tr>\n",
              "    <tr>\n",
              "      <th>couprisk</th>\n",
              "      <td>NaN</td>\n",
              "      <td>NaN</td>\n",
              "      <td>NaN</td>\n",
              "      <td>NaN</td>\n",
              "      <td>NaN</td>\n",
              "    </tr>\n",
              "    <tr>\n",
              "      <th>pctile_risk</th>\n",
              "      <td>NaN</td>\n",
              "      <td>NaN</td>\n",
              "      <td>NaN</td>\n",
              "      <td>NaN</td>\n",
              "      <td>NaN</td>\n",
              "    </tr>\n",
              "  </tbody>\n",
              "</table>\n",
              "</div>"
            ],
            "text/plain": [
              "                                      0                       1  \\\n",
              "ccode                                 2                       2   \n",
              "country                             USA                     USA   \n",
              "leader                           Truman                  Truman   \n",
              "year                               1950                    1950   \n",
              "month                                 1                       2   \n",
              "elected                               1                       1   \n",
              "age                                  66                      66   \n",
              "male                                  1                       1   \n",
              "militarycareer                        0                       0   \n",
              "tenure_months                        58                      59   \n",
              "government       Presidential Democracy  Presidential Democracy   \n",
              "anticipation                          0                       0   \n",
              "ref_ant                               0                       0   \n",
              "leg_ant                               0                       0   \n",
              "exec_ant                              0                       0   \n",
              "irreg_lead_ant                        0                       0   \n",
              "election_now                          0                       0   \n",
              "election_recent                       0                       0   \n",
              "leg_recent                            0                       0   \n",
              "exec_recent                           0                       0   \n",
              "lead_recent                           0                       0   \n",
              "ref_recent                            0                       0   \n",
              "direct_recent                         0                       0   \n",
              "indirect_recent                       0                       0   \n",
              "victory_recent                        0                       0   \n",
              "defeat_recent                         0                       0   \n",
              "change_recent                         0                       0   \n",
              "nochange_recent                       0                       0   \n",
              "delayed                               0                       0   \n",
              "lastelection                    2.63906                 2.70805   \n",
              "loss                            5.32788                 5.33272   \n",
              "irregular                       7.56579                 7.56631   \n",
              "prev_conflict                         0                       0   \n",
              "pt_suc                                0                       0   \n",
              "pt_attempt                            0                       0   \n",
              "precip                       -0.0690576               -0.113721   \n",
              "couprisk                            NaN                     NaN   \n",
              "pctile_risk                         NaN                     NaN   \n",
              "\n",
              "                                      2                       3  \\\n",
              "ccode                                 2                       2   \n",
              "country                             USA                     USA   \n",
              "leader                           Truman                  Truman   \n",
              "year                               1950                    1950   \n",
              "month                                 3                       4   \n",
              "elected                               1                       1   \n",
              "age                                  66                      66   \n",
              "male                                  1                       1   \n",
              "militarycareer                        0                       0   \n",
              "tenure_months                        60                      61   \n",
              "government       Presidential Democracy  Presidential Democracy   \n",
              "anticipation                          0                       0   \n",
              "ref_ant                               0                       0   \n",
              "leg_ant                               0                       0   \n",
              "exec_ant                              0                       0   \n",
              "irreg_lead_ant                        0                       0   \n",
              "election_now                          0                       0   \n",
              "election_recent                       0                       0   \n",
              "leg_recent                            0                       0   \n",
              "exec_recent                           0                       0   \n",
              "lead_recent                           0                       0   \n",
              "ref_recent                            0                       0   \n",
              "direct_recent                         0                       0   \n",
              "indirect_recent                       0                       0   \n",
              "victory_recent                        0                       0   \n",
              "defeat_recent                         0                       0   \n",
              "change_recent                         0                       0   \n",
              "nochange_recent                       0                       0   \n",
              "delayed                               0                       0   \n",
              "lastelection                    2.77259                 2.83321   \n",
              "loss                            5.33754                 5.34233   \n",
              "irregular                       7.56683                 7.56735   \n",
              "prev_conflict                         0                       0   \n",
              "pt_suc                                0                       0   \n",
              "pt_attempt                            0                       0   \n",
              "precip                        -0.108042              -0.0416001   \n",
              "couprisk                            NaN                     NaN   \n",
              "pctile_risk                         NaN                     NaN   \n",
              "\n",
              "                                      4  \n",
              "ccode                                 2  \n",
              "country                             USA  \n",
              "leader                           Truman  \n",
              "year                               1950  \n",
              "month                                 5  \n",
              "elected                               1  \n",
              "age                                  66  \n",
              "male                                  1  \n",
              "militarycareer                        0  \n",
              "tenure_months                        62  \n",
              "government       Presidential Democracy  \n",
              "anticipation                          0  \n",
              "ref_ant                               0  \n",
              "leg_ant                               0  \n",
              "exec_ant                              0  \n",
              "irreg_lead_ant                        0  \n",
              "election_now                          0  \n",
              "election_recent                       0  \n",
              "leg_recent                            0  \n",
              "exec_recent                           0  \n",
              "lead_recent                           0  \n",
              "ref_recent                            0  \n",
              "direct_recent                         0  \n",
              "indirect_recent                       0  \n",
              "victory_recent                        0  \n",
              "defeat_recent                         0  \n",
              "change_recent                         0  \n",
              "nochange_recent                       0  \n",
              "delayed                               0  \n",
              "lastelection                    2.89037  \n",
              "loss                            5.34711  \n",
              "irregular                       7.56786  \n",
              "prev_conflict                         0  \n",
              "pt_suc                                0  \n",
              "pt_attempt                            0  \n",
              "precip                        -0.129703  \n",
              "couprisk                            NaN  \n",
              "pctile_risk                         NaN  "
            ]
          },
          "metadata": {
            "tags": []
          },
          "execution_count": 133
        }
      ]
    },
    {
      "cell_type": "code",
      "metadata": {
        "id": "SjR409J-L_kX",
        "colab": {
          "base_uri": "https://localhost:8080/",
          "height": 694
        },
        "outputId": "4c0f40c9-5779-4a17-e4d1-157bb09c36bd"
      },
      "source": [
        "df"
      ],
      "execution_count": null,
      "outputs": [
        {
          "output_type": "execute_result",
          "data": {
            "text/html": [
              "<div>\n",
              "<style scoped>\n",
              "    .dataframe tbody tr th:only-of-type {\n",
              "        vertical-align: middle;\n",
              "    }\n",
              "\n",
              "    .dataframe tbody tr th {\n",
              "        vertical-align: top;\n",
              "    }\n",
              "\n",
              "    .dataframe thead th {\n",
              "        text-align: right;\n",
              "    }\n",
              "</style>\n",
              "<table border=\"1\" class=\"dataframe\">\n",
              "  <thead>\n",
              "    <tr style=\"text-align: right;\">\n",
              "      <th></th>\n",
              "      <th>ccode</th>\n",
              "      <th>country</th>\n",
              "      <th>leader</th>\n",
              "      <th>year</th>\n",
              "      <th>month</th>\n",
              "      <th>elected</th>\n",
              "      <th>age</th>\n",
              "      <th>male</th>\n",
              "      <th>militarycareer</th>\n",
              "      <th>tenure_months</th>\n",
              "      <th>government</th>\n",
              "      <th>anticipation</th>\n",
              "      <th>ref_ant</th>\n",
              "      <th>leg_ant</th>\n",
              "      <th>exec_ant</th>\n",
              "      <th>irreg_lead_ant</th>\n",
              "      <th>election_now</th>\n",
              "      <th>election_recent</th>\n",
              "      <th>leg_recent</th>\n",
              "      <th>exec_recent</th>\n",
              "      <th>lead_recent</th>\n",
              "      <th>ref_recent</th>\n",
              "      <th>direct_recent</th>\n",
              "      <th>indirect_recent</th>\n",
              "      <th>victory_recent</th>\n",
              "      <th>defeat_recent</th>\n",
              "      <th>change_recent</th>\n",
              "      <th>nochange_recent</th>\n",
              "      <th>delayed</th>\n",
              "      <th>lastelection</th>\n",
              "      <th>loss</th>\n",
              "      <th>irregular</th>\n",
              "      <th>prev_conflict</th>\n",
              "      <th>pt_suc</th>\n",
              "      <th>pt_attempt</th>\n",
              "      <th>precip</th>\n",
              "      <th>couprisk</th>\n",
              "      <th>pctile_risk</th>\n",
              "    </tr>\n",
              "  </thead>\n",
              "  <tbody>\n",
              "    <tr>\n",
              "      <th>0</th>\n",
              "      <td>2.0</td>\n",
              "      <td>USA</td>\n",
              "      <td>Truman</td>\n",
              "      <td>1950.0</td>\n",
              "      <td>1.0</td>\n",
              "      <td>1.0</td>\n",
              "      <td>66.0</td>\n",
              "      <td>1</td>\n",
              "      <td>0.0</td>\n",
              "      <td>58.0</td>\n",
              "      <td>Presidential Democracy</td>\n",
              "      <td>0.0</td>\n",
              "      <td>0.0</td>\n",
              "      <td>0.0</td>\n",
              "      <td>0.0</td>\n",
              "      <td>0.0</td>\n",
              "      <td>0.0</td>\n",
              "      <td>0.0</td>\n",
              "      <td>0.0</td>\n",
              "      <td>0.0</td>\n",
              "      <td>0.0</td>\n",
              "      <td>0.0</td>\n",
              "      <td>0.0</td>\n",
              "      <td>0.0</td>\n",
              "      <td>0.0</td>\n",
              "      <td>0.0</td>\n",
              "      <td>0.0</td>\n",
              "      <td>0.0</td>\n",
              "      <td>0.0</td>\n",
              "      <td>2.639057</td>\n",
              "      <td>5.327876</td>\n",
              "      <td>7.565793</td>\n",
              "      <td>0.0</td>\n",
              "      <td>0.0</td>\n",
              "      <td>0.0</td>\n",
              "      <td>-0.069058</td>\n",
              "      <td>NaN</td>\n",
              "      <td>NaN</td>\n",
              "    </tr>\n",
              "    <tr>\n",
              "      <th>1</th>\n",
              "      <td>2.0</td>\n",
              "      <td>USA</td>\n",
              "      <td>Truman</td>\n",
              "      <td>1950.0</td>\n",
              "      <td>2.0</td>\n",
              "      <td>1.0</td>\n",
              "      <td>66.0</td>\n",
              "      <td>1</td>\n",
              "      <td>0.0</td>\n",
              "      <td>59.0</td>\n",
              "      <td>Presidential Democracy</td>\n",
              "      <td>0.0</td>\n",
              "      <td>0.0</td>\n",
              "      <td>0.0</td>\n",
              "      <td>0.0</td>\n",
              "      <td>0.0</td>\n",
              "      <td>0.0</td>\n",
              "      <td>0.0</td>\n",
              "      <td>0.0</td>\n",
              "      <td>0.0</td>\n",
              "      <td>0.0</td>\n",
              "      <td>0.0</td>\n",
              "      <td>0.0</td>\n",
              "      <td>0.0</td>\n",
              "      <td>0.0</td>\n",
              "      <td>0.0</td>\n",
              "      <td>0.0</td>\n",
              "      <td>0.0</td>\n",
              "      <td>0.0</td>\n",
              "      <td>2.708050</td>\n",
              "      <td>5.332719</td>\n",
              "      <td>7.566311</td>\n",
              "      <td>0.0</td>\n",
              "      <td>0.0</td>\n",
              "      <td>0.0</td>\n",
              "      <td>-0.113721</td>\n",
              "      <td>NaN</td>\n",
              "      <td>NaN</td>\n",
              "    </tr>\n",
              "    <tr>\n",
              "      <th>2</th>\n",
              "      <td>2.0</td>\n",
              "      <td>USA</td>\n",
              "      <td>Truman</td>\n",
              "      <td>1950.0</td>\n",
              "      <td>3.0</td>\n",
              "      <td>1.0</td>\n",
              "      <td>66.0</td>\n",
              "      <td>1</td>\n",
              "      <td>0.0</td>\n",
              "      <td>60.0</td>\n",
              "      <td>Presidential Democracy</td>\n",
              "      <td>0.0</td>\n",
              "      <td>0.0</td>\n",
              "      <td>0.0</td>\n",
              "      <td>0.0</td>\n",
              "      <td>0.0</td>\n",
              "      <td>0.0</td>\n",
              "      <td>0.0</td>\n",
              "      <td>0.0</td>\n",
              "      <td>0.0</td>\n",
              "      <td>0.0</td>\n",
              "      <td>0.0</td>\n",
              "      <td>0.0</td>\n",
              "      <td>0.0</td>\n",
              "      <td>0.0</td>\n",
              "      <td>0.0</td>\n",
              "      <td>0.0</td>\n",
              "      <td>0.0</td>\n",
              "      <td>0.0</td>\n",
              "      <td>2.772589</td>\n",
              "      <td>5.337538</td>\n",
              "      <td>7.566829</td>\n",
              "      <td>0.0</td>\n",
              "      <td>0.0</td>\n",
              "      <td>0.0</td>\n",
              "      <td>-0.108042</td>\n",
              "      <td>NaN</td>\n",
              "      <td>NaN</td>\n",
              "    </tr>\n",
              "    <tr>\n",
              "      <th>3</th>\n",
              "      <td>2.0</td>\n",
              "      <td>USA</td>\n",
              "      <td>Truman</td>\n",
              "      <td>1950.0</td>\n",
              "      <td>4.0</td>\n",
              "      <td>1.0</td>\n",
              "      <td>66.0</td>\n",
              "      <td>1</td>\n",
              "      <td>0.0</td>\n",
              "      <td>61.0</td>\n",
              "      <td>Presidential Democracy</td>\n",
              "      <td>0.0</td>\n",
              "      <td>0.0</td>\n",
              "      <td>0.0</td>\n",
              "      <td>0.0</td>\n",
              "      <td>0.0</td>\n",
              "      <td>0.0</td>\n",
              "      <td>0.0</td>\n",
              "      <td>0.0</td>\n",
              "      <td>0.0</td>\n",
              "      <td>0.0</td>\n",
              "      <td>0.0</td>\n",
              "      <td>0.0</td>\n",
              "      <td>0.0</td>\n",
              "      <td>0.0</td>\n",
              "      <td>0.0</td>\n",
              "      <td>0.0</td>\n",
              "      <td>0.0</td>\n",
              "      <td>0.0</td>\n",
              "      <td>2.833213</td>\n",
              "      <td>5.342334</td>\n",
              "      <td>7.567346</td>\n",
              "      <td>0.0</td>\n",
              "      <td>0.0</td>\n",
              "      <td>0.0</td>\n",
              "      <td>-0.041600</td>\n",
              "      <td>NaN</td>\n",
              "      <td>NaN</td>\n",
              "    </tr>\n",
              "    <tr>\n",
              "      <th>4</th>\n",
              "      <td>2.0</td>\n",
              "      <td>USA</td>\n",
              "      <td>Truman</td>\n",
              "      <td>1950.0</td>\n",
              "      <td>5.0</td>\n",
              "      <td>1.0</td>\n",
              "      <td>66.0</td>\n",
              "      <td>1</td>\n",
              "      <td>0.0</td>\n",
              "      <td>62.0</td>\n",
              "      <td>Presidential Democracy</td>\n",
              "      <td>0.0</td>\n",
              "      <td>0.0</td>\n",
              "      <td>0.0</td>\n",
              "      <td>0.0</td>\n",
              "      <td>0.0</td>\n",
              "      <td>0.0</td>\n",
              "      <td>0.0</td>\n",
              "      <td>0.0</td>\n",
              "      <td>0.0</td>\n",
              "      <td>0.0</td>\n",
              "      <td>0.0</td>\n",
              "      <td>0.0</td>\n",
              "      <td>0.0</td>\n",
              "      <td>0.0</td>\n",
              "      <td>0.0</td>\n",
              "      <td>0.0</td>\n",
              "      <td>0.0</td>\n",
              "      <td>0.0</td>\n",
              "      <td>2.890372</td>\n",
              "      <td>5.347107</td>\n",
              "      <td>7.567863</td>\n",
              "      <td>0.0</td>\n",
              "      <td>0.0</td>\n",
              "      <td>0.0</td>\n",
              "      <td>-0.129703</td>\n",
              "      <td>NaN</td>\n",
              "      <td>NaN</td>\n",
              "    </tr>\n",
              "    <tr>\n",
              "      <th>...</th>\n",
              "      <td>...</td>\n",
              "      <td>...</td>\n",
              "      <td>...</td>\n",
              "      <td>...</td>\n",
              "      <td>...</td>\n",
              "      <td>...</td>\n",
              "      <td>...</td>\n",
              "      <td>...</td>\n",
              "      <td>...</td>\n",
              "      <td>...</td>\n",
              "      <td>...</td>\n",
              "      <td>...</td>\n",
              "      <td>...</td>\n",
              "      <td>...</td>\n",
              "      <td>...</td>\n",
              "      <td>...</td>\n",
              "      <td>...</td>\n",
              "      <td>...</td>\n",
              "      <td>...</td>\n",
              "      <td>...</td>\n",
              "      <td>...</td>\n",
              "      <td>...</td>\n",
              "      <td>...</td>\n",
              "      <td>...</td>\n",
              "      <td>...</td>\n",
              "      <td>...</td>\n",
              "      <td>...</td>\n",
              "      <td>...</td>\n",
              "      <td>...</td>\n",
              "      <td>...</td>\n",
              "      <td>...</td>\n",
              "      <td>...</td>\n",
              "      <td>...</td>\n",
              "      <td>...</td>\n",
              "      <td>...</td>\n",
              "      <td>...</td>\n",
              "      <td>...</td>\n",
              "      <td>...</td>\n",
              "    </tr>\n",
              "    <tr>\n",
              "      <th>136618</th>\n",
              "      <td>990.0</td>\n",
              "      <td>Samoa</td>\n",
              "      <td>Tuilaepa Sailele Malielegaoi</td>\n",
              "      <td>2020.0</td>\n",
              "      <td>6.0</td>\n",
              "      <td>1.0</td>\n",
              "      <td>75.0</td>\n",
              "      <td>1</td>\n",
              "      <td>0.0</td>\n",
              "      <td>259.0</td>\n",
              "      <td>Parliamentary Democracy</td>\n",
              "      <td>0.0</td>\n",
              "      <td>0.0</td>\n",
              "      <td>0.0</td>\n",
              "      <td>0.0</td>\n",
              "      <td>0.0</td>\n",
              "      <td>0.0</td>\n",
              "      <td>0.0</td>\n",
              "      <td>0.0</td>\n",
              "      <td>0.0</td>\n",
              "      <td>0.0</td>\n",
              "      <td>0.0</td>\n",
              "      <td>0.0</td>\n",
              "      <td>0.0</td>\n",
              "      <td>0.0</td>\n",
              "      <td>0.0</td>\n",
              "      <td>0.0</td>\n",
              "      <td>0.0</td>\n",
              "      <td>0.0</td>\n",
              "      <td>3.951244</td>\n",
              "      <td>5.963579</td>\n",
              "      <td>6.555357</td>\n",
              "      <td>0.0</td>\n",
              "      <td>0.0</td>\n",
              "      <td>0.0</td>\n",
              "      <td>0.743332</td>\n",
              "      <td>0.000273</td>\n",
              "      <td>0.094960</td>\n",
              "    </tr>\n",
              "    <tr>\n",
              "      <th>136619</th>\n",
              "      <td>990.0</td>\n",
              "      <td>Samoa</td>\n",
              "      <td>Tuilaepa Sailele Malielegaoi</td>\n",
              "      <td>2020.0</td>\n",
              "      <td>7.0</td>\n",
              "      <td>1.0</td>\n",
              "      <td>75.0</td>\n",
              "      <td>1</td>\n",
              "      <td>0.0</td>\n",
              "      <td>260.0</td>\n",
              "      <td>Parliamentary Democracy</td>\n",
              "      <td>0.0</td>\n",
              "      <td>0.0</td>\n",
              "      <td>0.0</td>\n",
              "      <td>0.0</td>\n",
              "      <td>0.0</td>\n",
              "      <td>0.0</td>\n",
              "      <td>0.0</td>\n",
              "      <td>0.0</td>\n",
              "      <td>0.0</td>\n",
              "      <td>0.0</td>\n",
              "      <td>0.0</td>\n",
              "      <td>0.0</td>\n",
              "      <td>0.0</td>\n",
              "      <td>0.0</td>\n",
              "      <td>0.0</td>\n",
              "      <td>0.0</td>\n",
              "      <td>0.0</td>\n",
              "      <td>0.0</td>\n",
              "      <td>3.970292</td>\n",
              "      <td>5.966147</td>\n",
              "      <td>6.556778</td>\n",
              "      <td>0.0</td>\n",
              "      <td>0.0</td>\n",
              "      <td>0.0</td>\n",
              "      <td>0.760538</td>\n",
              "      <td>0.000273</td>\n",
              "      <td>0.095032</td>\n",
              "    </tr>\n",
              "    <tr>\n",
              "      <th>136620</th>\n",
              "      <td>990.0</td>\n",
              "      <td>Samoa</td>\n",
              "      <td>Tuilaepa Sailele Malielegaoi</td>\n",
              "      <td>2020.0</td>\n",
              "      <td>8.0</td>\n",
              "      <td>1.0</td>\n",
              "      <td>75.0</td>\n",
              "      <td>1</td>\n",
              "      <td>0.0</td>\n",
              "      <td>261.0</td>\n",
              "      <td>Parliamentary Democracy</td>\n",
              "      <td>0.0</td>\n",
              "      <td>0.0</td>\n",
              "      <td>0.0</td>\n",
              "      <td>0.0</td>\n",
              "      <td>0.0</td>\n",
              "      <td>0.0</td>\n",
              "      <td>0.0</td>\n",
              "      <td>0.0</td>\n",
              "      <td>0.0</td>\n",
              "      <td>0.0</td>\n",
              "      <td>0.0</td>\n",
              "      <td>0.0</td>\n",
              "      <td>0.0</td>\n",
              "      <td>0.0</td>\n",
              "      <td>0.0</td>\n",
              "      <td>0.0</td>\n",
              "      <td>0.0</td>\n",
              "      <td>0.0</td>\n",
              "      <td>3.988984</td>\n",
              "      <td>5.968708</td>\n",
              "      <td>6.558198</td>\n",
              "      <td>0.0</td>\n",
              "      <td>0.0</td>\n",
              "      <td>0.0</td>\n",
              "      <td>0.748104</td>\n",
              "      <td>0.000276</td>\n",
              "      <td>0.096521</td>\n",
              "    </tr>\n",
              "    <tr>\n",
              "      <th>136621</th>\n",
              "      <td>990.0</td>\n",
              "      <td>Samoa</td>\n",
              "      <td>Tuilaepa Sailele Malielegaoi</td>\n",
              "      <td>2020.0</td>\n",
              "      <td>9.0</td>\n",
              "      <td>1.0</td>\n",
              "      <td>75.0</td>\n",
              "      <td>1</td>\n",
              "      <td>0.0</td>\n",
              "      <td>262.0</td>\n",
              "      <td>Parliamentary Democracy</td>\n",
              "      <td>1.0</td>\n",
              "      <td>0.0</td>\n",
              "      <td>1.0</td>\n",
              "      <td>0.0</td>\n",
              "      <td>0.0</td>\n",
              "      <td>0.0</td>\n",
              "      <td>0.0</td>\n",
              "      <td>0.0</td>\n",
              "      <td>0.0</td>\n",
              "      <td>0.0</td>\n",
              "      <td>0.0</td>\n",
              "      <td>0.0</td>\n",
              "      <td>0.0</td>\n",
              "      <td>0.0</td>\n",
              "      <td>0.0</td>\n",
              "      <td>0.0</td>\n",
              "      <td>0.0</td>\n",
              "      <td>0.0</td>\n",
              "      <td>4.007333</td>\n",
              "      <td>5.971262</td>\n",
              "      <td>6.559615</td>\n",
              "      <td>0.0</td>\n",
              "      <td>0.0</td>\n",
              "      <td>0.0</td>\n",
              "      <td>0.749726</td>\n",
              "      <td>0.000280</td>\n",
              "      <td>0.099518</td>\n",
              "    </tr>\n",
              "    <tr>\n",
              "      <th>136622</th>\n",
              "      <td>990.0</td>\n",
              "      <td>Samoa</td>\n",
              "      <td>Tuilaepa Sailele Malielegaoi</td>\n",
              "      <td>2020.0</td>\n",
              "      <td>10.0</td>\n",
              "      <td>1.0</td>\n",
              "      <td>75.0</td>\n",
              "      <td>1</td>\n",
              "      <td>0.0</td>\n",
              "      <td>263.0</td>\n",
              "      <td>Parliamentary Democracy</td>\n",
              "      <td>1.0</td>\n",
              "      <td>0.0</td>\n",
              "      <td>1.0</td>\n",
              "      <td>0.0</td>\n",
              "      <td>0.0</td>\n",
              "      <td>0.0</td>\n",
              "      <td>0.0</td>\n",
              "      <td>0.0</td>\n",
              "      <td>0.0</td>\n",
              "      <td>0.0</td>\n",
              "      <td>0.0</td>\n",
              "      <td>0.0</td>\n",
              "      <td>0.0</td>\n",
              "      <td>0.0</td>\n",
              "      <td>0.0</td>\n",
              "      <td>0.0</td>\n",
              "      <td>0.0</td>\n",
              "      <td>0.0</td>\n",
              "      <td>4.025352</td>\n",
              "      <td>5.973810</td>\n",
              "      <td>6.561030</td>\n",
              "      <td>0.0</td>\n",
              "      <td>0.0</td>\n",
              "      <td>0.0</td>\n",
              "      <td>0.763311</td>\n",
              "      <td>0.000299</td>\n",
              "      <td>0.114652</td>\n",
              "    </tr>\n",
              "  </tbody>\n",
              "</table>\n",
              "<p>136623 rows × 38 columns</p>\n",
              "</div>"
            ],
            "text/plain": [
              "        ccode country                        leader    year  month  elected  \\\n",
              "0         2.0     USA                        Truman  1950.0    1.0      1.0   \n",
              "1         2.0     USA                        Truman  1950.0    2.0      1.0   \n",
              "2         2.0     USA                        Truman  1950.0    3.0      1.0   \n",
              "3         2.0     USA                        Truman  1950.0    4.0      1.0   \n",
              "4         2.0     USA                        Truman  1950.0    5.0      1.0   \n",
              "...       ...     ...                           ...     ...    ...      ...   \n",
              "136618  990.0   Samoa  Tuilaepa Sailele Malielegaoi  2020.0    6.0      1.0   \n",
              "136619  990.0   Samoa  Tuilaepa Sailele Malielegaoi  2020.0    7.0      1.0   \n",
              "136620  990.0   Samoa  Tuilaepa Sailele Malielegaoi  2020.0    8.0      1.0   \n",
              "136621  990.0   Samoa  Tuilaepa Sailele Malielegaoi  2020.0    9.0      1.0   \n",
              "136622  990.0   Samoa  Tuilaepa Sailele Malielegaoi  2020.0   10.0      1.0   \n",
              "\n",
              "         age  male  militarycareer  tenure_months               government  \\\n",
              "0       66.0     1             0.0           58.0   Presidential Democracy   \n",
              "1       66.0     1             0.0           59.0   Presidential Democracy   \n",
              "2       66.0     1             0.0           60.0   Presidential Democracy   \n",
              "3       66.0     1             0.0           61.0   Presidential Democracy   \n",
              "4       66.0     1             0.0           62.0   Presidential Democracy   \n",
              "...      ...   ...             ...            ...                      ...   \n",
              "136618  75.0     1             0.0          259.0  Parliamentary Democracy   \n",
              "136619  75.0     1             0.0          260.0  Parliamentary Democracy   \n",
              "136620  75.0     1             0.0          261.0  Parliamentary Democracy   \n",
              "136621  75.0     1             0.0          262.0  Parliamentary Democracy   \n",
              "136622  75.0     1             0.0          263.0  Parliamentary Democracy   \n",
              "\n",
              "        anticipation  ref_ant  leg_ant  exec_ant  irreg_lead_ant  \\\n",
              "0                0.0      0.0      0.0       0.0             0.0   \n",
              "1                0.0      0.0      0.0       0.0             0.0   \n",
              "2                0.0      0.0      0.0       0.0             0.0   \n",
              "3                0.0      0.0      0.0       0.0             0.0   \n",
              "4                0.0      0.0      0.0       0.0             0.0   \n",
              "...              ...      ...      ...       ...             ...   \n",
              "136618           0.0      0.0      0.0       0.0             0.0   \n",
              "136619           0.0      0.0      0.0       0.0             0.0   \n",
              "136620           0.0      0.0      0.0       0.0             0.0   \n",
              "136621           1.0      0.0      1.0       0.0             0.0   \n",
              "136622           1.0      0.0      1.0       0.0             0.0   \n",
              "\n",
              "        election_now  election_recent  leg_recent  exec_recent  lead_recent  \\\n",
              "0                0.0              0.0         0.0          0.0          0.0   \n",
              "1                0.0              0.0         0.0          0.0          0.0   \n",
              "2                0.0              0.0         0.0          0.0          0.0   \n",
              "3                0.0              0.0         0.0          0.0          0.0   \n",
              "4                0.0              0.0         0.0          0.0          0.0   \n",
              "...              ...              ...         ...          ...          ...   \n",
              "136618           0.0              0.0         0.0          0.0          0.0   \n",
              "136619           0.0              0.0         0.0          0.0          0.0   \n",
              "136620           0.0              0.0         0.0          0.0          0.0   \n",
              "136621           0.0              0.0         0.0          0.0          0.0   \n",
              "136622           0.0              0.0         0.0          0.0          0.0   \n",
              "\n",
              "        ref_recent  direct_recent  indirect_recent  victory_recent  \\\n",
              "0              0.0            0.0              0.0             0.0   \n",
              "1              0.0            0.0              0.0             0.0   \n",
              "2              0.0            0.0              0.0             0.0   \n",
              "3              0.0            0.0              0.0             0.0   \n",
              "4              0.0            0.0              0.0             0.0   \n",
              "...            ...            ...              ...             ...   \n",
              "136618         0.0            0.0              0.0             0.0   \n",
              "136619         0.0            0.0              0.0             0.0   \n",
              "136620         0.0            0.0              0.0             0.0   \n",
              "136621         0.0            0.0              0.0             0.0   \n",
              "136622         0.0            0.0              0.0             0.0   \n",
              "\n",
              "        defeat_recent  change_recent  nochange_recent  delayed  lastelection  \\\n",
              "0                 0.0            0.0              0.0      0.0      2.639057   \n",
              "1                 0.0            0.0              0.0      0.0      2.708050   \n",
              "2                 0.0            0.0              0.0      0.0      2.772589   \n",
              "3                 0.0            0.0              0.0      0.0      2.833213   \n",
              "4                 0.0            0.0              0.0      0.0      2.890372   \n",
              "...               ...            ...              ...      ...           ...   \n",
              "136618            0.0            0.0              0.0      0.0      3.951244   \n",
              "136619            0.0            0.0              0.0      0.0      3.970292   \n",
              "136620            0.0            0.0              0.0      0.0      3.988984   \n",
              "136621            0.0            0.0              0.0      0.0      4.007333   \n",
              "136622            0.0            0.0              0.0      0.0      4.025352   \n",
              "\n",
              "            loss  irregular  prev_conflict  pt_suc  pt_attempt    precip  \\\n",
              "0       5.327876   7.565793            0.0     0.0         0.0 -0.069058   \n",
              "1       5.332719   7.566311            0.0     0.0         0.0 -0.113721   \n",
              "2       5.337538   7.566829            0.0     0.0         0.0 -0.108042   \n",
              "3       5.342334   7.567346            0.0     0.0         0.0 -0.041600   \n",
              "4       5.347107   7.567863            0.0     0.0         0.0 -0.129703   \n",
              "...          ...        ...            ...     ...         ...       ...   \n",
              "136618  5.963579   6.555357            0.0     0.0         0.0  0.743332   \n",
              "136619  5.966147   6.556778            0.0     0.0         0.0  0.760538   \n",
              "136620  5.968708   6.558198            0.0     0.0         0.0  0.748104   \n",
              "136621  5.971262   6.559615            0.0     0.0         0.0  0.749726   \n",
              "136622  5.973810   6.561030            0.0     0.0         0.0  0.763311   \n",
              "\n",
              "        couprisk  pctile_risk  \n",
              "0            NaN          NaN  \n",
              "1            NaN          NaN  \n",
              "2            NaN          NaN  \n",
              "3            NaN          NaN  \n",
              "4            NaN          NaN  \n",
              "...          ...          ...  \n",
              "136618  0.000273     0.094960  \n",
              "136619  0.000273     0.095032  \n",
              "136620  0.000276     0.096521  \n",
              "136621  0.000280     0.099518  \n",
              "136622  0.000299     0.114652  \n",
              "\n",
              "[136623 rows x 38 columns]"
            ]
          },
          "metadata": {
            "tags": []
          },
          "execution_count": 134
        }
      ]
    },
    {
      "cell_type": "code",
      "metadata": {
        "id": "5TgJFQ-nMAdQ"
      },
      "source": [
        ""
      ],
      "execution_count": null,
      "outputs": []
    },
    {
      "cell_type": "markdown",
      "metadata": {
        "id": "wcxdV3LuHJAS"
      },
      "source": [
        "#### 1. Сколько форм правления (government) представлено в наборе? Как изменилась популярность каждой формы правления в 1955 году по сравнению с 2019? \n",
        "\n",
        "*(изобразите в виде гистограммы где для каждой из форм правления обозначена их популярность в 1955 и 2019 годах в виде столбца)*"
      ]
    },
    {
      "cell_type": "code",
      "metadata": {
        "id": "1UwPwXalHJAT",
        "colab": {
          "base_uri": "https://localhost:8080/"
        },
        "outputId": "af68042d-c25e-43eb-cd6c-77e81d6e9656"
      },
      "source": [
        "# Ваш код здесь\n",
        "print('Уникальных форм правления: ', len(df['government'].unique()))"
      ],
      "execution_count": null,
      "outputs": [
        {
          "output_type": "stream",
          "text": [
            "Уникальных форм правления:  16\n"
          ],
          "name": "stdout"
        }
      ]
    },
    {
      "cell_type": "code",
      "metadata": {
        "id": "VdLo-YMHLuXP"
      },
      "source": [
        "import matplotlib.pyplot as plt\n",
        "\n",
        "year_1955 = df.loc[df['year'] == 1955]['government'].value_counts()\n",
        "#df[df['year'] ==1955]['government']\n",
        "year_2019 = df.loc[df['year'] == 2019]['government'].value_counts()\n"
      ],
      "execution_count": null,
      "outputs": []
    },
    {
      "cell_type": "code",
      "metadata": {
        "id": "maQyZHP6Ni6g",
        "colab": {
          "base_uri": "https://localhost:8080/"
        },
        "outputId": "19de6c58-250b-41c6-efd0-5426d8834cc7"
      },
      "source": [
        "print(year_1955)\n",
        "print()\n",
        "print(year_2019)"
      ],
      "execution_count": null,
      "outputs": [
        {
          "output_type": "stream",
          "text": [
            "Parliamentary Democracy           334\n",
            "Monarchy                          169\n",
            "Dominant Party                    168\n",
            "Personal Dictatorship             141\n",
            "Presidential Democracy             99\n",
            "Military-Personal                  48\n",
            "Party-Personal                     36\n",
            "Party-Personal-Military Hybrid     26\n",
            "Oligarchy                          25\n",
            "Party-Military                     12\n",
            "Foreign/Occupied                    9\n",
            "Military                            5\n",
            "Name: government, dtype: int64\n",
            "\n",
            "Parliamentary Democracy           924\n",
            "Presidential Democracy            662\n",
            "Personal Dictatorship             224\n",
            "Dominant Party                    168\n",
            "Monarchy                          158\n",
            "Party-Personal                     84\n",
            "Provisional - Civilian             27\n",
            "Foreign/Occupied                   25\n",
            "Warlordism                         24\n",
            "Party-Military                     24\n",
            "Military-Personal                  21\n",
            "Military                           16\n",
            "Party-Personal-Military Hybrid     12\n",
            "Provisional - Military              4\n",
            "Name: government, dtype: int64\n"
          ],
          "name": "stdout"
        }
      ]
    },
    {
      "cell_type": "code",
      "metadata": {
        "id": "ooknDil0QVIm",
        "colab": {
          "base_uri": "https://localhost:8080/",
          "height": 282
        },
        "outputId": "e2495f29-a5f8-4117-fdae-cc6967b286d1"
      },
      "source": [
        "plt.barh(year_1955.index,year_1955.values)"
      ],
      "execution_count": null,
      "outputs": [
        {
          "output_type": "execute_result",
          "data": {
            "text/plain": [
              "<BarContainer object of 12 artists>"
            ]
          },
          "metadata": {
            "tags": []
          },
          "execution_count": 138
        },
        {
          "output_type": "display_data",
          "data": {
            "image/png": "[encoded data removed]",
            "text/plain": [
              "<Figure size 432x288 with 1 Axes>"
            ]
          },
          "metadata": {
            "tags": [],
            "needs_background": "light"
          }
        }
      ]
    },
    {
      "cell_type": "markdown",
      "metadata": {
        "id": "PK6BUgLd4jxH"
      },
      "source": [
        "**Популярность формы правления в 1955**"
      ]
    },
    {
      "cell_type": "code",
      "metadata": {
        "id": "6Zyow22aTboT",
        "colab": {
          "base_uri": "https://localhost:8080/",
          "height": 282
        },
        "outputId": "95991cfe-77c3-4b14-93ac-3f09624abd0c"
      },
      "source": [
        "plt.barh(year_2019.index,year_2019.values)"
      ],
      "execution_count": null,
      "outputs": [
        {
          "output_type": "execute_result",
          "data": {
            "text/plain": [
              "<BarContainer object of 14 artists>"
            ]
          },
          "metadata": {
            "tags": []
          },
          "execution_count": 139
        },
        {
          "output_type": "display_data",
          "data": {
            "image/png": "[encoded data removed]",
            "text/plain": [
              "<Figure size 432x288 with 1 Axes>"
            ]
          },
          "metadata": {
            "tags": [],
            "needs_background": "light"
          }
        }
      ]
    },
    {
      "cell_type": "markdown",
      "metadata": {
        "id": "VAK9ucrE4O8-"
      },
      "source": [
        "**Популярность форм правления в 2019**"
      ]
    },
    {
      "cell_type": "markdown",
      "metadata": {
        "id": "cSPlXaUHHJAX"
      },
      "source": [
        "#### 2. Как менялся средний возраст правителей с годами?\n",
        "\n",
        "*(Постройте график, где по оси X обозначены года, по оси Y средний возраст всех правителей в соответствующем году)*"
      ]
    },
    {
      "cell_type": "code",
      "metadata": {
        "id": "h8rPawKvHJAY"
      },
      "source": [
        "dict_years = {}\n",
        "for item in range(1950,2019):\n",
        "  dict_years[item] = df.loc[df['year'] == item]['age'].mean()\n",
        "age_years = pd.Series(dict_years)"
      ],
      "execution_count": null,
      "outputs": []
    },
    {
      "cell_type": "code",
      "metadata": {
        "id": "5Sg56lDSVUw3",
        "colab": {
          "base_uri": "https://localhost:8080/",
          "height": 285
        },
        "outputId": "f2cf50df-7061-44b2-ed90-70c8d774a0b0"
      },
      "source": [
        "plt.plot(age_years.index, age_years.values)"
      ],
      "execution_count": null,
      "outputs": [
        {
          "output_type": "execute_result",
          "data": {
            "text/plain": [
              "[<matplotlib.lines.Line2D at 0x7f939f353cf8>]"
            ]
          },
          "metadata": {
            "tags": []
          },
          "execution_count": 141
        },
        {
          "output_type": "display_data",
          "data": {
            "image/png": "[encoded data removed]",
            "text/plain": [
              "<Figure size 432x288 with 1 Axes>"
            ]
          },
          "metadata": {
            "tags": [],
            "needs_background": "light"
          }
        }
      ]
    },
    {
      "cell_type": "markdown",
      "metadata": {
        "id": "bvXPRFXo4omU"
      },
      "source": [
        "**Изменения среднего возраста правителей**"
      ]
    },
    {
      "cell_type": "markdown",
      "metadata": {
        "id": "NAYc9ryEHJAc"
      },
      "source": [
        "#### 3. Сколько выборов (процессов всенародного голосования) произошло в мире в период с апреля 1995 (включительно) по февраль 2006 (включительно)?\n",
        "\n",
        "*Подсказка: для удобной работы с датами добавьте виртуальный столбец (ф-я apply), в котором будут храниться объекты datetime.date. Такие объекты корректно обрабатывают операторы сравнения > и <.*"
      ]
    },
    {
      "cell_type": "code",
      "metadata": {
        "id": "NGZIjsahHJAc",
        "colab": {
          "base_uri": "https://localhost:8080/"
        },
        "outputId": "f6e8806c-164e-4562-93a4-cfe5ab6a1d05"
      },
      "source": [
        "# Ваш код здесь election_now\n",
        "count_elections  = 0\n",
        "for item in range(1995,2006):\n",
        "  count_elections += df.loc[df['year'] == item]['election_now'].sum()\n",
        "print('Количество выборов с 1995 года по 2006 год: ',int(count_elections))\n"
      ],
      "execution_count": null,
      "outputs": [
        {
          "output_type": "stream",
          "text": [
            "Количество выборов с 1995 года по 2006 год:  579\n"
          ],
          "name": "stdout"
        }
      ]
    },
    {
      "cell_type": "markdown",
      "metadata": {
        "id": "QKcg1S4NHJAg"
      },
      "source": [
        "#### 4. При какой форме правления чаще всего происходит смена власти (сменяется правитель в результате выборов)? А при какой власть дольше остается несменяемой (остается тот же правитель после выборов)?\n",
        "\n",
        "*Подсказка 1: за сменяемость власти после выборов отвечают флаги change_recent и nochange_recent. Но они принимают значение \"1\" в течение 6 месяцев, следующих за месяцем, в котором прошли выборы. Но нам нужно учитывать только один месяц, следующий сразу за перевыборами. Для этого можно получить все даты, для которых election_now=1, прибавить 1 месяц (класс dateutil.relativedelta) и отфильтровать по этим датам.*\n",
        "\n",
        "*Подсказка 2: учтите, что в разных странах выборы могут проходить в соседние даты, поэтому при выборке по параметру election_now=1 нужно оставлять информацию о принадлежности к стране.*\n",
        "\n",
        "*Подсказка 3: некоторые формы правления более популярны в мире чем другие, поэтому частоту смены власти логично нормировать на общее количество выборов, прошедших для каждой формы правления.*"
      ]
    },
    {
      "cell_type": "code",
      "metadata": {
        "scrolled": true,
        "id": "azDcXx7kHJAh",
        "colab": {
          "base_uri": "https://localhost:8080/"
        },
        "outputId": "2c20f600-2de2-453c-9a5a-985e32128a18"
      },
      "source": [
        "!pip install datedelta\n",
        "\n"
      ],
      "execution_count": null,
      "outputs": [
        {
          "output_type": "stream",
          "text": [
            "Requirement already satisfied: datedelta in /usr/local/lib/python3.6/dist-packages (1.3)\n"
          ],
          "name": "stdout"
        }
      ]
    },
    {
      "cell_type": "code",
      "metadata": {
        "colab": {
          "base_uri": "https://localhost:8080/"
        },
        "id": "20_OaP5w7lZu",
        "outputId": "5855d903-0f54-4f01-9837-4b3df1e944f1"
      },
      "source": [
        "import datedelta\n",
        "from datetime import date\n",
        "df = df.apply(pd.to_numeric, errors='ignore', downcast='integer')\n",
        "df = df.assign(\n",
        "    date=df.apply(lambda row: date(year=row.year, month=row.month, day=1), axis=1)\n",
        ")\n",
        "elections_held = df[df.election_now == 1]\n",
        "elections_dates = elections_held.date\n",
        "print(elections_dates)\n",
        "elections_dates_month_forward = elections_dates + datedelta.MONTH\n",
        "print(elections_dates_month_forward)\n",
        "elections_per_government = elections_held.groupby('government')[['ccode']].count()\n",
        "elections_per_government = elections_per_government.rename(columns={'ccode': 'count'})\n"
      ],
      "execution_count": null,
      "outputs": [
        {
          "output_type": "stream",
          "text": [
            "34        1952-11-01\n",
            "83        1956-11-01\n",
            "131       1960-11-01\n",
            "181       1964-11-01\n",
            "229       1968-11-01\n",
            "             ...    \n",
            "136354    1998-07-01\n",
            "136387    2001-03-01\n",
            "136447    2006-03-01\n",
            "136507    2011-03-01\n",
            "136567    2016-03-01\n",
            "Name: date, Length: 2800, dtype: object\n",
            "34        1952-12-01\n",
            "83        1956-12-01\n",
            "131       1960-12-01\n",
            "181       1964-12-01\n",
            "229       1968-12-01\n",
            "             ...    \n",
            "136354    1998-08-01\n",
            "136387    2001-04-01\n",
            "136447    2006-04-01\n",
            "136507    2011-04-01\n",
            "136567    2016-04-01\n",
            "Name: date, Length: 2800, dtype: object\n"
          ],
          "name": "stdout"
        },
        {
          "output_type": "execute_result",
          "data": {
            "text/plain": [
              "count    1120\n",
              "dtype: int64"
            ]
          },
          "metadata": {
            "tags": []
          },
          "execution_count": 144
        }
      ]
    },
    {
      "cell_type": "code",
      "metadata": {
        "colab": {
          "base_uri": "https://localhost:8080/",
          "height": 145
        },
        "id": "drNnvmrm7r5L",
        "outputId": "de8ab528-434e-48a0-f7be-f0ef932b83cd"
      },
      "source": [
        "print(elections_per_government.max())\n",
        "elections_per_government[elections_per_government['count']==1120]\n"
      ],
      "execution_count": null,
      "outputs": [
        {
          "output_type": "stream",
          "text": [
            "count    1120\n",
            "dtype: int64\n"
          ],
          "name": "stdout"
        },
        {
          "output_type": "execute_result",
          "data": {
            "text/html": [
              "<div>\n",
              "<style scoped>\n",
              "    .dataframe tbody tr th:only-of-type {\n",
              "        vertical-align: middle;\n",
              "    }\n",
              "\n",
              "    .dataframe tbody tr th {\n",
              "        vertical-align: top;\n",
              "    }\n",
              "\n",
              "    .dataframe thead th {\n",
              "        text-align: right;\n",
              "    }\n",
              "</style>\n",
              "<table border=\"1\" class=\"dataframe\">\n",
              "  <thead>\n",
              "    <tr style=\"text-align: right;\">\n",
              "      <th></th>\n",
              "      <th>count</th>\n",
              "    </tr>\n",
              "    <tr>\n",
              "      <th>government</th>\n",
              "      <th></th>\n",
              "    </tr>\n",
              "  </thead>\n",
              "  <tbody>\n",
              "    <tr>\n",
              "      <th>Parliamentary Democracy</th>\n",
              "      <td>1120</td>\n",
              "    </tr>\n",
              "  </tbody>\n",
              "</table>\n",
              "</div>"
            ],
            "text/plain": [
              "                         count\n",
              "government                    \n",
              "Parliamentary Democracy   1120"
            ]
          },
          "metadata": {
            "tags": []
          },
          "execution_count": 168
        }
      ]
    },
    {
      "cell_type": "markdown",
      "metadata": {
        "id": "R7AxBYdw8c3D"
      },
      "source": [
        "**Не сменяемой при Parliamentary Democracy**"
      ]
    },
    {
      "cell_type": "code",
      "metadata": {
        "colab": {
          "base_uri": "https://localhost:8080/"
        },
        "id": "O0uoBCyC7XNk",
        "outputId": "723aff13-954e-4683-f16a-1c9df64bd635"
      },
      "source": [
        "countries_governments = df[['country', 'government']].drop_duplicates()\n",
        "countries_governments.head()\n",
        "filtered = df.loc[(df.date.isin(elections_dates_month_forward)) & (df.election_recent == 1)]\n",
        "filtered = filtered[['country', 'government', 'change_recent', 'nochange_recent']]\n",
        "grouped_by_country = filtered.groupby('country').sum()\n",
        "print(grouped_by_country)\n",
        "merged_with_government = grouped_by_country.merge(countries_governments, on='country')\n",
        "print(merged_with_government)\n",
        "merged_with_elections = merged_with_government.merge(elections_per_government, on='government')\n",
        "print(merged_with_elections)\n",
        "merged_with_elections['change_recent'] = merged_with_elections['change_recent'] / merged_with_elections['count']\n",
        "merged_with_elections['nochange_recent'] = merged_with_elections['nochange_recent'] / merged_with_elections['count']"
      ],
      "execution_count": null,
      "outputs": [
        {
          "output_type": "stream",
          "text": [
            "             change_recent  nochange_recent\n",
            "country                                    \n",
            "Afghanistan            7.0             21.0\n",
            "Albania               25.0            101.0\n",
            "Algeria               16.0             53.0\n",
            "Andorra               39.0             40.0\n",
            "Angola                 7.0             28.0\n",
            "...                    ...              ...\n",
            "Yemen                  6.0             30.0\n",
            "Yemen South            0.0             12.0\n",
            "Yugoslavia             0.0             24.0\n",
            "Zambia                26.0             50.0\n",
            "Zimbabwe              13.0             73.0\n",
            "\n",
            "[188 rows x 2 columns]\n",
            "         country  change_recent  nochange_recent              government\n",
            "0    Afghanistan            7.0             21.0                Monarchy\n",
            "1    Afghanistan            7.0             21.0   Personal Dictatorship\n",
            "2    Afghanistan            7.0             21.0          Party-Personal\n",
            "3    Afghanistan            7.0             21.0              Warlordism\n",
            "4    Afghanistan            7.0             21.0          Dominant Party\n",
            "..           ...            ...              ...                     ...\n",
            "448       Zambia           26.0             50.0          Dominant Party\n",
            "449       Zambia           26.0             50.0  Presidential Democracy\n",
            "450     Zimbabwe           13.0             73.0               Oligarchy\n",
            "451     Zimbabwe           13.0             73.0  Provisional - Civilian\n",
            "452     Zimbabwe           13.0             73.0          Dominant Party\n",
            "\n",
            "[453 rows x 4 columns]\n",
            "         country  change_recent  nochange_recent  \\\n",
            "0    Afghanistan            7.0             21.0   \n",
            "1         Bhutan           13.0              0.0   \n",
            "2        Burundi           23.0             35.0   \n",
            "3       Cambodia           11.0             65.0   \n",
            "4          Egypt           13.0            103.0   \n",
            "..           ...            ...              ...   \n",
            "448        Egypt           13.0            103.0   \n",
            "449    Indonesia           20.0             53.0   \n",
            "450       Panama           75.0              6.0   \n",
            "451     Paraguay           38.0             57.0   \n",
            "452        Syria           14.0             61.0   \n",
            "\n",
            "                         government  count  \n",
            "0                          Monarchy     13  \n",
            "1                          Monarchy     13  \n",
            "2                          Monarchy     13  \n",
            "3                          Monarchy     13  \n",
            "4                          Monarchy     13  \n",
            "..                              ...    ...  \n",
            "448  Party-Personal-Military Hybrid     45  \n",
            "449  Party-Personal-Military Hybrid     45  \n",
            "450  Party-Personal-Military Hybrid     45  \n",
            "451  Party-Personal-Military Hybrid     45  \n",
            "452  Party-Personal-Military Hybrid     45  \n",
            "\n",
            "[453 rows x 5 columns]\n"
          ],
          "name": "stdout"
        }
      ]
    },
    {
      "cell_type": "code",
      "metadata": {
        "colab": {
          "base_uri": "https://localhost:8080/"
        },
        "id": "Qu9p10WaW0jC",
        "outputId": "ee95238e-8c4c-429d-ef7e-bc892b507591"
      },
      "source": [
        "merged_with_elections.loc[merged_with_elections.change_recent.idxmax()]"
      ],
      "execution_count": null,
      "outputs": [
        {
          "output_type": "execute_result",
          "data": {
            "text/plain": [
              "country                Bosnia\n",
              "change_recent         17.6667\n",
              "nochange_recent             2\n",
              "government         Warlordism\n",
              "count                       3\n",
              "Name: 98, dtype: object"
            ]
          },
          "metadata": {
            "tags": []
          },
          "execution_count": 146
        }
      ]
    },
    {
      "cell_type": "code",
      "metadata": {
        "colab": {
          "base_uri": "https://localhost:8080/"
        },
        "id": "9mGuvigqW4vv",
        "outputId": "e60f73d9-4b79-45fc-aeb6-9f100d426d59"
      },
      "source": [
        "merged_with_elections.loc[merged_with_elections.nochange_recent.idxmax()]"
      ],
      "execution_count": null,
      "outputs": [
        {
          "output_type": "execute_result",
          "data": {
            "text/plain": [
              "country               Liberia\n",
              "change_recent               7\n",
              "nochange_recent       18.3333\n",
              "government         Warlordism\n",
              "count                       3\n",
              "Name: 101, dtype: object"
            ]
          },
          "metadata": {
            "tags": []
          },
          "execution_count": 147
        }
      ]
    },
    {
      "cell_type": "markdown",
      "metadata": {
        "id": "YH6f7VjE8mg_"
      },
      "source": [
        "**Сменяемой при Warlordism**"
      ]
    },
    {
      "cell_type": "markdown",
      "metadata": {
        "id": "e_vLaL0YHJAm"
      },
      "source": [
        "#### 5. Выберите любую страну из набора данных и покажите как для неё менялся риск государственного переворота pctile_risk. Сопоставьте эти данные с датами выборов в стране (election_now). Есть ли взаимосвязь? В чем она проявляется?\n",
        "\n",
        "*Примечание: для стран СНГ нужно учитывать что все они до 1991 года были в составе СССР.*"
      ]
    },
    {
      "cell_type": "code",
      "metadata": {
        "id": "ZfC37fHlHJAm",
        "colab": {
          "base_uri": "https://localhost:8080/",
          "height": 282
        },
        "outputId": "3a78cdef-72d2-43f0-dc9c-2787b2cc6948"
      },
      "source": [
        "plt.plot(df.loc[df['country'] == 'USA']['pctile_risk'].index,df.loc[df['country'] == 'USA']['pctile_risk'].values)"
      ],
      "execution_count": null,
      "outputs": [
        {
          "output_type": "execute_result",
          "data": {
            "text/plain": [
              "[<matplotlib.lines.Line2D at 0x7f939f4caeb8>]"
            ]
          },
          "metadata": {
            "tags": []
          },
          "execution_count": 148
        },
        {
          "output_type": "display_data",
          "data": {
            "image/png": "[encoded data removed]",
            "text/plain": [
              "<Figure size 432x288 with 1 Axes>"
            ]
          },
          "metadata": {
            "tags": [],
            "needs_background": "light"
          }
        }
      ]
    },
    {
      "cell_type": "code",
      "metadata": {
        "id": "niR4JeXlbS12",
        "colab": {
          "base_uri": "https://localhost:8080/"
        },
        "outputId": "5f34a51c-2bdb-46e6-acc6-8d33eed74ccc"
      },
      "source": [
        "df.loc[df['country'] == 'USA']['pctile_risk']"
      ],
      "execution_count": null,
      "outputs": [
        {
          "output_type": "execute_result",
          "data": {
            "text/plain": [
              "0           NaN\n",
              "1           NaN\n",
              "2           NaN\n",
              "3           NaN\n",
              "4           NaN\n",
              "         ...   \n",
              "857    0.061828\n",
              "858    0.560735\n",
              "859    0.071731\n",
              "860    0.070350\n",
              "861    0.088676\n",
              "Name: pctile_risk, Length: 862, dtype: float64"
            ]
          },
          "metadata": {
            "tags": []
          },
          "execution_count": 149
        }
      ]
    },
    {
      "cell_type": "markdown",
      "metadata": {
        "id": "AEfBpJwRjK8a"
      },
      "source": [
        ""
      ]
    },
    {
      "cell_type": "code",
      "metadata": {
        "id": "9IyoTgc9ale9",
        "colab": {
          "base_uri": "https://localhost:8080/",
          "height": 282
        },
        "outputId": "952be418-bfd4-49f5-8faf-b612ec1e83c5"
      },
      "source": [
        "plt.plot(df.loc[df['country'] == 'USA']['election_now'].index,df.loc[df['country'] == 'USA']['election_now'].values)"
      ],
      "execution_count": null,
      "outputs": [
        {
          "output_type": "execute_result",
          "data": {
            "text/plain": [
              "[<matplotlib.lines.Line2D at 0x7f939df5e6d8>]"
            ]
          },
          "metadata": {
            "tags": []
          },
          "execution_count": 150
        },
        {
          "output_type": "display_data",
          "data": {
            "image/png": "[encoded data removed]",
            "text/plain": [
              "<Figure size 432x288 with 1 Axes>"
            ]
          },
          "metadata": {
            "tags": [],
            "needs_background": "light"
          }
        }
      ]
    },
    {
      "cell_type": "code",
      "metadata": {
        "id": "HSQ92JX1bGCY",
        "colab": {
          "base_uri": "https://localhost:8080/",
          "height": 296
        },
        "outputId": "e3cad4b5-4fa3-484b-a27f-67b6c7c376ea"
      },
      "source": [
        "#df.loc[df['country'] == 'USA']['election_now']\n",
        "import seaborn as sns\n",
        "USA = df.loc[df.country == 'USA']\n",
        "sns.lineplot(x='date', y='election_now', data=USA)\n",
        "sns.lineplot(x='date', y='pctile_risk', data=USA)"
      ],
      "execution_count": null,
      "outputs": [
        {
          "output_type": "execute_result",
          "data": {
            "text/plain": [
              "<matplotlib.axes._subplots.AxesSubplot at 0x7f939e7da908>"
            ]
          },
          "metadata": {
            "tags": []
          },
          "execution_count": 151
        },
        {
          "output_type": "display_data",
          "data": {
            "image/png": "[encoded data removed]",
            "text/plain": [
              "<Figure size 432x288 with 1 Axes>"
            ]
          },
          "metadata": {
            "tags": [],
            "needs_background": "light"
          }
        }
      ]
    },
    {
      "cell_type": "markdown",
      "metadata": {
        "id": "eLY8hptIHJAq"
      },
      "source": [
        "#### 6. Правда ли, что каждый 10 правитель (10% лидеров) оставались у власти более чем на 1 срок?"
      ]
    },
    {
      "cell_type": "code",
      "metadata": {
        "id": "WpQGANd6HJAr",
        "colab": {
          "base_uri": "https://localhost:8080/"
        },
        "outputId": "48e1856a-6344-46eb-ae62-b6c38d9aa23d"
      },
      "source": [
        "presidents = df[df['election_now'] == 1].loc[:, ['leader', 'country']]\n",
        "presidents_groups = presidents.groupby(['country', 'leader']).size().reset_index()\n",
        "presidents_groups.rename(columns = {0 : 'rule_time'}, inplace = True)\n",
        "presidents_share = presidents_groups[presidents_groups['rule_time'] > 1].rule_time.count() / presidents_groups.rule_time.sum()\n",
        "\n",
        "print('Правители более чем на 1 срок: {:.2%}'.format(presidents_share))\n",
        "print('Правда')"
      ],
      "execution_count": null,
      "outputs": [
        {
          "output_type": "stream",
          "text": [
            "Правители более чем на 1 срок: 23.96%\n",
            "Правда\n"
          ],
          "name": "stdout"
        }
      ]
    },
    {
      "cell_type": "markdown",
      "metadata": {
        "id": "oVI3yzpTHJAv"
      },
      "source": [
        "#### 7. Выберите 3 любых страны из набора данных. Соберите статистику возраста (максимальный, минимальный, средний) и пола (процентное соотношение мужчин и женщин) правителя для каждой страны. Выведите все данные в виде таблицы.\n",
        "\n",
        "*Подсказка: используйте groupby и describe.*"
      ]
    },
    {
      "cell_type": "code",
      "metadata": {
        "id": "pqk6WgN2HJAv",
        "colab": {
          "base_uri": "https://localhost:8080/",
          "height": 204
        },
        "outputId": "042a7552-5b24-4cbd-b94d-37666297cd9a"
      },
      "source": [
        "stat = df.loc[df.country.isin(['USA', 'Russia', 'Finland'])]\n",
        "stat[['country', 'age', 'male']].groupby('country').describe()"
      ],
      "execution_count": null,
      "outputs": [
        {
          "output_type": "execute_result",
          "data": {
            "text/html": [
              "<div>\n",
              "<style scoped>\n",
              "    .dataframe tbody tr th:only-of-type {\n",
              "        vertical-align: middle;\n",
              "    }\n",
              "\n",
              "    .dataframe tbody tr th {\n",
              "        vertical-align: top;\n",
              "    }\n",
              "\n",
              "    .dataframe thead tr th {\n",
              "        text-align: left;\n",
              "    }\n",
              "\n",
              "    .dataframe thead tr:last-of-type th {\n",
              "        text-align: right;\n",
              "    }\n",
              "</style>\n",
              "<table border=\"1\" class=\"dataframe\">\n",
              "  <thead>\n",
              "    <tr>\n",
              "      <th></th>\n",
              "      <th colspan=\"8\" halign=\"left\">age</th>\n",
              "      <th colspan=\"8\" halign=\"left\">male</th>\n",
              "    </tr>\n",
              "    <tr>\n",
              "      <th></th>\n",
              "      <th>count</th>\n",
              "      <th>mean</th>\n",
              "      <th>std</th>\n",
              "      <th>min</th>\n",
              "      <th>25%</th>\n",
              "      <th>50%</th>\n",
              "      <th>75%</th>\n",
              "      <th>max</th>\n",
              "      <th>count</th>\n",
              "      <th>mean</th>\n",
              "      <th>std</th>\n",
              "      <th>min</th>\n",
              "      <th>25%</th>\n",
              "      <th>50%</th>\n",
              "      <th>75%</th>\n",
              "      <th>max</th>\n",
              "    </tr>\n",
              "    <tr>\n",
              "      <th>country</th>\n",
              "      <th></th>\n",
              "      <th></th>\n",
              "      <th></th>\n",
              "      <th></th>\n",
              "      <th></th>\n",
              "      <th></th>\n",
              "      <th></th>\n",
              "      <th></th>\n",
              "      <th></th>\n",
              "      <th></th>\n",
              "      <th></th>\n",
              "      <th></th>\n",
              "      <th></th>\n",
              "      <th></th>\n",
              "      <th></th>\n",
              "      <th></th>\n",
              "    </tr>\n",
              "  </thead>\n",
              "  <tbody>\n",
              "    <tr>\n",
              "      <th>Finland</th>\n",
              "      <td>861.0</td>\n",
              "      <td>62.235772</td>\n",
              "      <td>10.087128</td>\n",
              "      <td>34.0</td>\n",
              "      <td>57.0</td>\n",
              "      <td>62.0</td>\n",
              "      <td>70.0</td>\n",
              "      <td>81.0</td>\n",
              "      <td>861.0</td>\n",
              "      <td>0.968641</td>\n",
              "      <td>0.174387</td>\n",
              "      <td>0.0</td>\n",
              "      <td>1.0</td>\n",
              "      <td>1.0</td>\n",
              "      <td>1.0</td>\n",
              "      <td>1.0</td>\n",
              "    </tr>\n",
              "    <tr>\n",
              "      <th>Russia</th>\n",
              "      <td>350.0</td>\n",
              "      <td>59.748571</td>\n",
              "      <td>5.995670</td>\n",
              "      <td>48.0</td>\n",
              "      <td>55.0</td>\n",
              "      <td>61.0</td>\n",
              "      <td>65.0</td>\n",
              "      <td>68.0</td>\n",
              "      <td>350.0</td>\n",
              "      <td>1.000000</td>\n",
              "      <td>0.000000</td>\n",
              "      <td>1.0</td>\n",
              "      <td>1.0</td>\n",
              "      <td>1.0</td>\n",
              "      <td>1.0</td>\n",
              "      <td>1.0</td>\n",
              "    </tr>\n",
              "    <tr>\n",
              "      <th>USA</th>\n",
              "      <td>862.0</td>\n",
              "      <td>60.301624</td>\n",
              "      <td>8.480050</td>\n",
              "      <td>44.0</td>\n",
              "      <td>54.0</td>\n",
              "      <td>59.0</td>\n",
              "      <td>67.0</td>\n",
              "      <td>78.0</td>\n",
              "      <td>862.0</td>\n",
              "      <td>1.000000</td>\n",
              "      <td>0.000000</td>\n",
              "      <td>1.0</td>\n",
              "      <td>1.0</td>\n",
              "      <td>1.0</td>\n",
              "      <td>1.0</td>\n",
              "      <td>1.0</td>\n",
              "    </tr>\n",
              "  </tbody>\n",
              "</table>\n",
              "</div>"
            ],
            "text/plain": [
              "           age                                                       male  \\\n",
              "         count       mean        std   min   25%   50%   75%   max  count   \n",
              "country                                                                     \n",
              "Finland  861.0  62.235772  10.087128  34.0  57.0  62.0  70.0  81.0  861.0   \n",
              "Russia   350.0  59.748571   5.995670  48.0  55.0  61.0  65.0  68.0  350.0   \n",
              "USA      862.0  60.301624   8.480050  44.0  54.0  59.0  67.0  78.0  862.0   \n",
              "\n",
              "                                                      \n",
              "             mean       std  min  25%  50%  75%  max  \n",
              "country                                               \n",
              "Finland  0.968641  0.174387  0.0  1.0  1.0  1.0  1.0  \n",
              "Russia   1.000000  0.000000  1.0  1.0  1.0  1.0  1.0  \n",
              "USA      1.000000  0.000000  1.0  1.0  1.0  1.0  1.0  "
            ]
          },
          "metadata": {
            "tags": []
          },
          "execution_count": 153
        }
      ]
    },
    {
      "cell_type": "markdown",
      "metadata": {
        "id": "3nyy_sbcHJAz"
      },
      "source": [
        "#### 8. Посчитайте среднегодовой риск переворота (pctile_risk) для каждого лидера. Для кого и в каком году он был максимальным? А минимальным?"
      ]
    },
    {
      "cell_type": "code",
      "metadata": {
        "id": "-ks-hfqZHJA0",
        "colab": {
          "base_uri": "https://localhost:8080/",
          "height": 450
        },
        "outputId": "c7a4fb5c-307e-4b27-db58-7d8a84bca834"
      },
      "source": [
        "risk = df[['year', 'leader', 'pctile_risk']].groupby(['year', 'leader']).mean()\n",
        "risk"
      ],
      "execution_count": null,
      "outputs": [
        {
          "output_type": "execute_result",
          "data": {
            "text/html": [
              "<div>\n",
              "<style scoped>\n",
              "    .dataframe tbody tr th:only-of-type {\n",
              "        vertical-align: middle;\n",
              "    }\n",
              "\n",
              "    .dataframe tbody tr th {\n",
              "        vertical-align: top;\n",
              "    }\n",
              "\n",
              "    .dataframe thead th {\n",
              "        text-align: right;\n",
              "    }\n",
              "</style>\n",
              "<table border=\"1\" class=\"dataframe\">\n",
              "  <thead>\n",
              "    <tr style=\"text-align: right;\">\n",
              "      <th></th>\n",
              "      <th></th>\n",
              "      <th>pctile_risk</th>\n",
              "    </tr>\n",
              "    <tr>\n",
              "      <th>year</th>\n",
              "      <th>leader</th>\n",
              "      <th></th>\n",
              "    </tr>\n",
              "  </thead>\n",
              "  <tbody>\n",
              "    <tr>\n",
              "      <th rowspan=\"5\" valign=\"top\">1950</th>\n",
              "      <th>Abdul-Ilah</th>\n",
              "      <td>NaN</td>\n",
              "    </tr>\n",
              "    <tr>\n",
              "      <th>Abdullah Al-Hussein</th>\n",
              "      <td>NaN</td>\n",
              "    </tr>\n",
              "    <tr>\n",
              "      <th>Abdullah As-Sabah</th>\n",
              "      <td>NaN</td>\n",
              "    </tr>\n",
              "    <tr>\n",
              "      <th>Adenauer</th>\n",
              "      <td>NaN</td>\n",
              "    </tr>\n",
              "    <tr>\n",
              "      <th>Aleman Valdes</th>\n",
              "      <td>NaN</td>\n",
              "    </tr>\n",
              "    <tr>\n",
              "      <th>...</th>\n",
              "      <th>...</th>\n",
              "      <td>...</td>\n",
              "    </tr>\n",
              "    <tr>\n",
              "      <th rowspan=\"5\" valign=\"top\">2020</th>\n",
              "      <th>Yoshihide Suga</th>\n",
              "      <td>0.193277</td>\n",
              "    </tr>\n",
              "    <tr>\n",
              "      <th>Zaev</th>\n",
              "      <td>0.201937</td>\n",
              "    </tr>\n",
              "    <tr>\n",
              "      <th>Zelensky</th>\n",
              "      <td>0.501484</td>\n",
              "    </tr>\n",
              "    <tr>\n",
              "      <th>al-Sisi</th>\n",
              "      <td>0.819254</td>\n",
              "    </tr>\n",
              "    <tr>\n",
              "      <th>de Sousa</th>\n",
              "      <td>0.176779</td>\n",
              "    </tr>\n",
              "  </tbody>\n",
              "</table>\n",
              "<p>13458 rows × 1 columns</p>\n",
              "</div>"
            ],
            "text/plain": [
              "                          pctile_risk\n",
              "year leader                          \n",
              "1950 Abdul-Ilah                   NaN\n",
              "     Abdullah Al-Hussein          NaN\n",
              "     Abdullah As-Sabah            NaN\n",
              "     Adenauer                     NaN\n",
              "     Aleman Valdes                NaN\n",
              "...                               ...\n",
              "2020 Yoshihide Suga          0.193277\n",
              "     Zaev                    0.201937\n",
              "     Zelensky                0.501484\n",
              "     al-Sisi                 0.819254\n",
              "     de Sousa                0.176779\n",
              "\n",
              "[13458 rows x 1 columns]"
            ]
          },
          "metadata": {
            "tags": []
          },
          "execution_count": 154
        }
      ]
    },
    {
      "cell_type": "code",
      "metadata": {
        "colab": {
          "base_uri": "https://localhost:8080/",
          "height": 111
        },
        "id": "49LW9PxfaTZb",
        "outputId": "ef55a1ef-3360-4bda-ad7b-db6edd39412e"
      },
      "source": [
        "risk.loc[risk.idxmax()]"
      ],
      "execution_count": null,
      "outputs": [
        {
          "output_type": "execute_result",
          "data": {
            "text/html": [
              "<div>\n",
              "<style scoped>\n",
              "    .dataframe tbody tr th:only-of-type {\n",
              "        vertical-align: middle;\n",
              "    }\n",
              "\n",
              "    .dataframe tbody tr th {\n",
              "        vertical-align: top;\n",
              "    }\n",
              "\n",
              "    .dataframe thead th {\n",
              "        text-align: right;\n",
              "    }\n",
              "</style>\n",
              "<table border=\"1\" class=\"dataframe\">\n",
              "  <thead>\n",
              "    <tr style=\"text-align: right;\">\n",
              "      <th></th>\n",
              "      <th></th>\n",
              "      <th>pctile_risk</th>\n",
              "    </tr>\n",
              "    <tr>\n",
              "      <th>year</th>\n",
              "      <th>leader</th>\n",
              "      <th></th>\n",
              "    </tr>\n",
              "  </thead>\n",
              "  <tbody>\n",
              "    <tr>\n",
              "      <th>1996</th>\n",
              "      <th>Bio</th>\n",
              "      <td>1.048786</td>\n",
              "    </tr>\n",
              "  </tbody>\n",
              "</table>\n",
              "</div>"
            ],
            "text/plain": [
              "             pctile_risk\n",
              "year leader             \n",
              "1996 Bio        1.048786"
            ]
          },
          "metadata": {
            "tags": []
          },
          "execution_count": 155
        }
      ]
    },
    {
      "cell_type": "markdown",
      "metadata": {
        "id": "l9U0L17o6H7V"
      },
      "source": [
        "**Максимальный**"
      ]
    },
    {
      "cell_type": "code",
      "metadata": {
        "colab": {
          "base_uri": "https://localhost:8080/",
          "height": 111
        },
        "id": "BjD2idlDac9l",
        "outputId": "9d39923b-f331-4adc-f7fd-bb2101f6aff6"
      },
      "source": [
        "risk.loc[risk.idxmin()]"
      ],
      "execution_count": null,
      "outputs": [
        {
          "output_type": "execute_result",
          "data": {
            "text/html": [
              "<div>\n",
              "<style scoped>\n",
              "    .dataframe tbody tr th:only-of-type {\n",
              "        vertical-align: middle;\n",
              "    }\n",
              "\n",
              "    .dataframe tbody tr th {\n",
              "        vertical-align: top;\n",
              "    }\n",
              "\n",
              "    .dataframe thead th {\n",
              "        text-align: right;\n",
              "    }\n",
              "</style>\n",
              "<table border=\"1\" class=\"dataframe\">\n",
              "  <thead>\n",
              "    <tr style=\"text-align: right;\">\n",
              "      <th></th>\n",
              "      <th></th>\n",
              "      <th>pctile_risk</th>\n",
              "    </tr>\n",
              "    <tr>\n",
              "      <th>year</th>\n",
              "      <th>leader</th>\n",
              "      <th></th>\n",
              "    </tr>\n",
              "  </thead>\n",
              "  <tbody>\n",
              "    <tr>\n",
              "      <th>1978</th>\n",
              "      <th>Franz Josef</th>\n",
              "      <td>0.001946</td>\n",
              "    </tr>\n",
              "  </tbody>\n",
              "</table>\n",
              "</div>"
            ],
            "text/plain": [
              "                  pctile_risk\n",
              "year leader                  \n",
              "1978 Franz Josef     0.001946"
            ]
          },
          "metadata": {
            "tags": []
          },
          "execution_count": 156
        }
      ]
    },
    {
      "cell_type": "markdown",
      "metadata": {
        "id": "3mF720Xk6LeL"
      },
      "source": [
        "**Минимальный**"
      ]
    },
    {
      "cell_type": "markdown",
      "metadata": {
        "id": "amvcCJgiHJA4"
      },
      "source": [
        "#### 9. Покажите как часто проходили государственные перевороты (pt_suc) и как они зависят от формы правления?\n",
        "\n",
        "*Примечание: некоторые формы правления более популярны в мире чем другие, поэтому данные логично нормировать на общую популярность форм правления в мире.*"
      ]
    },
    {
      "cell_type": "code",
      "metadata": {
        "id": "zgsIOdzmHJA4",
        "colab": {
          "base_uri": "https://localhost:8080/"
        },
        "outputId": "09ebdbcb-4f50-4589-f1cd-dade99b7e1d5"
      },
      "source": [
        "bunt_count_by_country = df.groupby('government').pt_suc.sum()\n",
        "govern_spread = df.groupby('government').government.count()\n",
        "\n",
        "bunt_normalized = bunt_count_by_country.div(govern_spread)\n",
        "bunt_normalized"
      ],
      "execution_count": null,
      "outputs": [
        {
          "output_type": "execute_result",
          "data": {
            "text/plain": [
              "government\n",
              "Dominant Party                    0.000989\n",
              "Foreign/Occupied                  0.001621\n",
              "Indirect Military                 0.007648\n",
              "Military                          0.010582\n",
              "Military-Personal                 0.003751\n",
              "Monarchy                          0.000980\n",
              "Oligarchy                         0.002407\n",
              "Parliamentary Democracy           0.000571\n",
              "Party-Military                    0.003998\n",
              "Party-Personal                    0.001485\n",
              "Party-Personal-Military Hybrid    0.002605\n",
              "Personal Dictatorship             0.002657\n",
              "Presidential Democracy            0.001410\n",
              "Provisional - Civilian            0.008677\n",
              "Provisional - Military            0.016620\n",
              "Warlordism                        0.001736\n",
              "dtype: float64"
            ]
          },
          "metadata": {
            "tags": []
          },
          "execution_count": 157
        }
      ]
    },
    {
      "cell_type": "code",
      "metadata": {
        "colab": {
          "base_uri": "https://localhost:8080/",
          "height": 445
        },
        "id": "ol4x7fejav7O",
        "outputId": "c31ab6c9-8b07-4726-fa71-aac659c08a13"
      },
      "source": [
        "bunt_normalized.plot(figsize = (7, 7), kind = 'barh')"
      ],
      "execution_count": null,
      "outputs": [
        {
          "output_type": "execute_result",
          "data": {
            "text/plain": [
              "<matplotlib.axes._subplots.AxesSubplot at 0x7f939e8d9cf8>"
            ]
          },
          "metadata": {
            "tags": []
          },
          "execution_count": 158
        },
        {
          "output_type": "display_data",
          "data": {
            "image/png": "[encoded data removed]",
            "text/plain": [
              "<Figure size 504x504 with 1 Axes>"
            ]
          },
          "metadata": {
            "tags": [],
            "needs_background": "light"
          }
        }
      ]
    },
    {
      "cell_type": "markdown",
      "metadata": {
        "id": "h3zZVXsHHJA8"
      },
      "source": [
        "#### 10. Постройте график зависимости принадлежности президента к силовым структурам (militarycareer) от формы правления (government). \n",
        "\n",
        "*Подсказка: сперва сгруппируйте данные по лидерам, потом используйте crosstab.*\n",
        "\n",
        "*Примечание: некоторые формы правления более популярны в мире чем другие, поэтому данные логично нормировать на общую популярность форм правления в мире.*"
      ]
    },
    {
      "cell_type": "code",
      "metadata": {
        "id": "GfSrNnCXHJA9",
        "colab": {
          "base_uri": "https://localhost:8080/",
          "height": 445
        },
        "outputId": "26d95bd1-be87-4fef-87ff-82f446c587db"
      },
      "source": [
        "leader_groups = df.groupby('leader').count()\n",
        "result = pd.crosstab(df.government, df.militarycareer)\n",
        "result['ratio'] = result[1.0] / (result[0.0] + result[1.0])\n",
        "#print(result)\n",
        "result['ratio'].plot(figsize = (7, 7), kind = 'barh')"
      ],
      "execution_count": null,
      "outputs": [
        {
          "output_type": "execute_result",
          "data": {
            "text/plain": [
              "<matplotlib.axes._subplots.AxesSubplot at 0x7f939e936908>"
            ]
          },
          "metadata": {
            "tags": []
          },
          "execution_count": 159
        },
        {
          "output_type": "display_data",
          "data": {
            "image/png": "[encoded data removed]",
            "text/plain": [
              "<Figure size 504x504 with 1 Axes>"
            ]
          },
          "metadata": {
            "tags": [],
            "needs_background": "light"
          }
        }
      ]
    }
  ]
}
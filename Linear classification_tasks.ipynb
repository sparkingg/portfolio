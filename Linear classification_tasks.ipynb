{
  "nbformat": 4,
  "nbformat_minor": 0,
  "metadata": {
    "kernelspec": {
      "display_name": "Python 3",
      "language": "python",
      "name": "python3"
    },
    "language_info": {
      "codemirror_mode": {
        "name": "ipython",
        "version": 3
      },
      "file_extension": ".py",
      "mimetype": "text/x-python",
      "name": "python",
      "nbconvert_exporter": "python",
      "pygments_lexer": "ipython3",
      "version": "3.6.3"
    },
    "colab": {
      "name": "Lab_Линейная_классификация.ipynb",
      "provenance": [],
      "collapsed_sections": []
    }
  },
  "cells": [
    {
      "cell_type": "code",
      "metadata": {
        "id": "-a8wv9YH-nPH"
      },
      "source": [
        "# загружаем файл heart.csv\n"
      ],
      "execution_count": null,
      "outputs": []
    },
    {
      "cell_type": "code",
      "metadata": {
        "id": "w-OkhzbjMrfb",
        "colab": {
          "base_uri": "https://localhost:8080/"
        },
        "outputId": "b0319838-bde6-482c-b989-d809ccae995e"
      },
      "source": [
        "# устанавливаем нужную версию библиотеки sklearn, чтобы ответы сошлись\n",
        "!pip install scikit-learn==0.22.1"
      ],
      "execution_count": null,
      "outputs": [
        {
          "output_type": "stream",
          "text": [
            "Requirement already satisfied: scikit-learn==0.22.1 in /usr/local/lib/python3.7/dist-packages (0.22.1)\n",
            "Requirement already satisfied: joblib>=0.11 in /usr/local/lib/python3.7/dist-packages (from scikit-learn==0.22.1) (1.0.1)\n",
            "Requirement already satisfied: scipy>=0.17.0 in /usr/local/lib/python3.7/dist-packages (from scikit-learn==0.22.1) (1.4.1)\n",
            "Requirement already satisfied: numpy>=1.11.0 in /usr/local/lib/python3.7/dist-packages (from scikit-learn==0.22.1) (1.19.5)\n"
          ],
          "name": "stdout"
        }
      ]
    },
    {
      "cell_type": "code",
      "metadata": {
        "id": "GlYLS9t3-Y0T"
      },
      "source": [
        "import numpy as np\n",
        "import pandas as pd"
      ],
      "execution_count": null,
      "outputs": []
    },
    {
      "cell_type": "code",
      "metadata": {
        "id": "X6qnhkcC-Y0W",
        "colab": {
          "base_uri": "https://localhost:8080/",
          "height": 204
        },
        "outputId": "624b34e0-2d3d-43cb-9c40-3ed2ed17f8be"
      },
      "source": [
        "data = pd.read_csv('heart.csv')\n",
        "data.head()"
      ],
      "execution_count": null,
      "outputs": [
        {
          "output_type": "execute_result",
          "data": {
            "text/html": [
              "<div>\n",
              "<style scoped>\n",
              "    .dataframe tbody tr th:only-of-type {\n",
              "        vertical-align: middle;\n",
              "    }\n",
              "\n",
              "    .dataframe tbody tr th {\n",
              "        vertical-align: top;\n",
              "    }\n",
              "\n",
              "    .dataframe thead th {\n",
              "        text-align: right;\n",
              "    }\n",
              "</style>\n",
              "<table border=\"1\" class=\"dataframe\">\n",
              "  <thead>\n",
              "    <tr style=\"text-align: right;\">\n",
              "      <th></th>\n",
              "      <th>age</th>\n",
              "      <th>sex</th>\n",
              "      <th>cp</th>\n",
              "      <th>trestbps</th>\n",
              "      <th>chol</th>\n",
              "      <th>fbs</th>\n",
              "      <th>restecg</th>\n",
              "      <th>thalach</th>\n",
              "      <th>exang</th>\n",
              "      <th>oldpeak</th>\n",
              "      <th>slope</th>\n",
              "      <th>ca</th>\n",
              "      <th>thal</th>\n",
              "      <th>target</th>\n",
              "    </tr>\n",
              "  </thead>\n",
              "  <tbody>\n",
              "    <tr>\n",
              "      <th>0</th>\n",
              "      <td>63</td>\n",
              "      <td>1</td>\n",
              "      <td>3</td>\n",
              "      <td>145</td>\n",
              "      <td>233</td>\n",
              "      <td>1</td>\n",
              "      <td>0</td>\n",
              "      <td>150</td>\n",
              "      <td>0</td>\n",
              "      <td>2.3</td>\n",
              "      <td>0</td>\n",
              "      <td>0</td>\n",
              "      <td>1</td>\n",
              "      <td>1</td>\n",
              "    </tr>\n",
              "    <tr>\n",
              "      <th>1</th>\n",
              "      <td>37</td>\n",
              "      <td>1</td>\n",
              "      <td>2</td>\n",
              "      <td>130</td>\n",
              "      <td>250</td>\n",
              "      <td>0</td>\n",
              "      <td>1</td>\n",
              "      <td>187</td>\n",
              "      <td>0</td>\n",
              "      <td>3.5</td>\n",
              "      <td>0</td>\n",
              "      <td>0</td>\n",
              "      <td>2</td>\n",
              "      <td>1</td>\n",
              "    </tr>\n",
              "    <tr>\n",
              "      <th>2</th>\n",
              "      <td>41</td>\n",
              "      <td>0</td>\n",
              "      <td>1</td>\n",
              "      <td>130</td>\n",
              "      <td>204</td>\n",
              "      <td>0</td>\n",
              "      <td>0</td>\n",
              "      <td>172</td>\n",
              "      <td>0</td>\n",
              "      <td>1.4</td>\n",
              "      <td>2</td>\n",
              "      <td>0</td>\n",
              "      <td>2</td>\n",
              "      <td>1</td>\n",
              "    </tr>\n",
              "    <tr>\n",
              "      <th>3</th>\n",
              "      <td>56</td>\n",
              "      <td>1</td>\n",
              "      <td>1</td>\n",
              "      <td>120</td>\n",
              "      <td>236</td>\n",
              "      <td>0</td>\n",
              "      <td>1</td>\n",
              "      <td>178</td>\n",
              "      <td>0</td>\n",
              "      <td>0.8</td>\n",
              "      <td>2</td>\n",
              "      <td>0</td>\n",
              "      <td>2</td>\n",
              "      <td>1</td>\n",
              "    </tr>\n",
              "    <tr>\n",
              "      <th>4</th>\n",
              "      <td>57</td>\n",
              "      <td>0</td>\n",
              "      <td>0</td>\n",
              "      <td>120</td>\n",
              "      <td>354</td>\n",
              "      <td>0</td>\n",
              "      <td>1</td>\n",
              "      <td>163</td>\n",
              "      <td>1</td>\n",
              "      <td>0.6</td>\n",
              "      <td>2</td>\n",
              "      <td>0</td>\n",
              "      <td>2</td>\n",
              "      <td>1</td>\n",
              "    </tr>\n",
              "  </tbody>\n",
              "</table>\n",
              "</div>"
            ],
            "text/plain": [
              "   age  sex  cp  trestbps  chol  fbs  ...  exang  oldpeak  slope  ca  thal  target\n",
              "0   63    1   3       145   233    1  ...      0      2.3      0   0     1       1\n",
              "1   37    1   2       130   250    0  ...      0      3.5      0   0     2       1\n",
              "2   41    0   1       130   204    0  ...      0      1.4      2   0     2       1\n",
              "3   56    1   1       120   236    0  ...      0      0.8      2   0     2       1\n",
              "4   57    0   0       120   354    0  ...      1      0.6      2   0     2       1\n",
              "\n",
              "[5 rows x 14 columns]"
            ]
          },
          "metadata": {
            "tags": []
          },
          "execution_count": 12
        }
      ]
    },
    {
      "cell_type": "markdown",
      "metadata": {
        "id": "vSEr-DrP-Y0Z"
      },
      "source": [
        "1. Какой процент пациентов из представленных в данных имеет заболевание сердца (`'target' = 1`)? Ответ округлите до двух знаков после запятой."
      ]
    },
    {
      "cell_type": "code",
      "metadata": {
        "id": "zTmRguplRkee",
        "colab": {
          "base_uri": "https://localhost:8080/"
        },
        "outputId": "b5880d34-92fa-41e5-bf8d-ec8763476a0a"
      },
      "source": [
        "all = data.shape[0]\n",
        "notall = data[data['target'] == 1]\n",
        "notall = notall.shape[0]\n",
        "print(round(notall/all,2))\n",
        "\n",
        "\n",
        "\n"
      ],
      "execution_count": null,
      "outputs": [
        {
          "output_type": "stream",
          "text": [
            "0.54\n"
          ],
          "name": "stdout"
        }
      ]
    },
    {
      "cell_type": "markdown",
      "metadata": {
        "id": "UuXUxx8C-Y0c"
      },
      "source": [
        "Разделим данную выборку на обучающую и тестовую части в отношении 3:1."
      ]
    },
    {
      "cell_type": "code",
      "metadata": {
        "id": "SDAbZBIF-Y0c",
        "colab": {
          "base_uri": "https://localhost:8080/"
        },
        "outputId": "2c434d5d-19a6-4fec-a62f-6a1dde0029fe"
      },
      "source": [
        "from sklearn.model_selection import train_test_split\n",
        "X_train, X_test, y_train, y_test = train_test_split(data.drop('target', axis=1), data['target'], test_size=0.33, random_state=13)\n",
        "X_train.shape, X_test.shape"
      ],
      "execution_count": null,
      "outputs": [
        {
          "output_type": "execute_result",
          "data": {
            "text/plain": [
              "((203, 13), (100, 13))"
            ]
          },
          "metadata": {
            "tags": []
          },
          "execution_count": 14
        }
      ]
    },
    {
      "cell_type": "markdown",
      "metadata": {
        "id": "zx6L2daY-Y0f"
      },
      "source": [
        "2. Обучите линейный классификатор из `sklearn` (`sklearn.linear_model.SGDClassifier`) с максимальным числом итераций `max_iter=1000`, постоянным значением шага градиентного спуска (`learning_rate='constant'`), равным `eta0=0.1`. В качестве сида поставьте `random_state=13`. Параметр регуляризации отключите: `alpha=0`. Класс `sklearn.linear_model.SGDClassifier` объединяет в себе разные линейные модели - чтобы получить логистическую регрессию, зафиксируйте параметр `loss='log'`.\n",
        "\n",
        "   Подробнее о параметрах можно почитать в [документации](https://scikit-learn.org/stable/modules/generated/sklearn.linear_model.SGDClassifier.html).\n",
        "\n",
        "   Какое значение свободного коэффициента у полученного линейного классификатора? Ответ округлите до двух знаков после запятой."
      ]
    },
    {
      "cell_type": "code",
      "metadata": {
        "id": "oEajYrOrRmNM",
        "colab": {
          "base_uri": "https://localhost:8080/"
        },
        "outputId": "306dd267-3af8-4806-9e9c-9e183bbe2c0a"
      },
      "source": [
        "from sklearn.linear_model import SGDClassifier\n",
        "clf = SGDClassifier(max_iter=1000, learning_rate='constant', eta0=0.1, random_state=13,alpha=0,loss='log')\n",
        "clf.fit(X_train,y_train)"
      ],
      "execution_count": null,
      "outputs": [
        {
          "output_type": "execute_result",
          "data": {
            "text/plain": [
              "SGDClassifier(alpha=0, average=False, class_weight=None, early_stopping=False,\n",
              "              epsilon=0.1, eta0=0.1, fit_intercept=True, l1_ratio=0.15,\n",
              "              learning_rate='constant', loss='log', max_iter=1000,\n",
              "              n_iter_no_change=5, n_jobs=None, penalty='l2', power_t=0.5,\n",
              "              random_state=13, shuffle=True, tol=0.001, validation_fraction=0.1,\n",
              "              verbose=0, warm_start=False)"
            ]
          },
          "metadata": {
            "tags": []
          },
          "execution_count": 15
        }
      ]
    },
    {
      "cell_type": "code",
      "metadata": {
        "colab": {
          "base_uri": "https://localhost:8080/"
        },
        "id": "Bo7KQZ5HotEA",
        "outputId": "185b59d0-8f3e-4946-c3fe-33fce2eb7d3f"
      },
      "source": [
        "round(clf.intercept_[0],2)"
      ],
      "execution_count": null,
      "outputs": [
        {
          "output_type": "execute_result",
          "data": {
            "text/plain": [
              "-0.85"
            ]
          },
          "metadata": {
            "tags": []
          },
          "execution_count": 16
        }
      ]
    },
    {
      "cell_type": "markdown",
      "metadata": {
        "id": "MpQP-UAy-Y0i"
      },
      "source": [
        "3. Какое значение L2-нормы вектора весов (без учета свободного коэффициента) у полученного линейного классификатора? Ответ округлите до двух знаков после запятой.\n",
        "\n",
        "_Напоминание. L2-норма вектора $v = (v_1, \\ldots, v_n)$ - это корень из суммы квадратов его элементов:_\n",
        "\n",
        "$$\n",
        "\\|v\\|_2 = \\sqrt{\\sum\\limits_{i=1}^nv_i^2}\n",
        "$$"
      ]
    },
    {
      "cell_type": "code",
      "metadata": {
        "id": "L7Yxn8vnRpIX",
        "colab": {
          "base_uri": "https://localhost:8080/"
        },
        "outputId": "0b205763-6693-4bd3-9ff8-72c151350641"
      },
      "source": [
        "import math\n",
        "sum = 0\n",
        "L2norm = 0\n",
        "for item in clf.coef_:\n",
        "  sum = sum + item*item\n",
        "for item in sum:\n",
        "  L2norm = L2norm + item\n",
        "print(round(math.sqrt(L2norm),2))"
      ],
      "execution_count": null,
      "outputs": [
        {
          "output_type": "stream",
          "text": [
            "175.98\n"
          ],
          "name": "stdout"
        }
      ]
    },
    {
      "cell_type": "markdown",
      "metadata": {
        "id": "xCAGwry5-Y0k"
      },
      "source": [
        "4. Найдите долю правильных ответов классификатора на тестовой части выборки **(в процентах)**. Ответ округлите до двух знаков после запятой. Например, если значение доли правильных ответов будет равно 0.1234, то ответом будет 12.34 - ведь это 12.34%."
      ]
    },
    {
      "cell_type": "code",
      "metadata": {
        "id": "8ewvCkR2RrAp",
        "colab": {
          "base_uri": "https://localhost:8080/"
        },
        "outputId": "cf1930f5-1e88-4d02-8fde-277337cde2b0"
      },
      "source": [
        "round(clf.score(X_train,y_train)*100,2)\n",
        "\n"
      ],
      "execution_count": null,
      "outputs": [
        {
          "output_type": "execute_result",
          "data": {
            "text/plain": [
              "52.71"
            ]
          },
          "metadata": {
            "tags": []
          },
          "execution_count": 18
        }
      ]
    },
    {
      "cell_type": "markdown",
      "metadata": {
        "id": "ICrH_Gb_-Y0n"
      },
      "source": [
        "5. В задаче классификации, как и в задаче регрессии, для оптимизации линейных моделей можно применять регуляризацию. Этот метод реализован и в `sklearn.linear_model.SGDClassifier` - параметр регуляризации обозначается параметром `alpha`. За тип регуляризации (L1, L2 или обе сразу) отвечает параметр `penalty`. \n",
        "\n",
        "   Обучите классификатор заново с параметром регуляризации `alpha=0.1` и типом регуляризации `penalty='l1'`. Оставьте максимальное число итераций, равное `max_iter=1000` и сид `random_state=13`. Также вместо постоянного значения шага градиентного спуска используйте оптимальное (`learning_rate='optimal'`), которое, кстати, зависит от `alpha` (о том, как именно он вычисляется и какие еще параметры можно выбрать, можно подробнее прочитать в [документации](https://scikit-learn.org/stable/modules/generated/sklearn.linear_model.SGDClassifier.html)). В данном случае значение начального шага градиентного спуска `eta0` никак не участвует в обучении.\n",
        "   \n",
        "   Отличается ли качество полученного классификатора от качества первого? Какая доля правильных ответов получается теперь на тестовой выборке? Выразите ее **в процентах**, ответ округлите до двух знаков после запятой. Например, если значение доли правильных ответов будет равно 0.1234, то ответом будет 12.34 - ведь это 12.34%."
      ]
    },
    {
      "cell_type": "code",
      "metadata": {
        "id": "1que_LwfRspA",
        "colab": {
          "base_uri": "https://localhost:8080/"
        },
        "outputId": "daeb594a-05f9-4eb5-9111-2af9601f5d81"
      },
      "source": [
        "clf = SGDClassifier(max_iter=1000, learning_rate='optimal', eta0=0.1, random_state=13,alpha=0.1,loss='log',penalty='l1')\n",
        "clf.fit(X_train,y_train)\n",
        "round(clf.score(X_train,y_train)*100,2)\n",
        "\n"
      ],
      "execution_count": null,
      "outputs": [
        {
          "output_type": "execute_result",
          "data": {
            "text/plain": [
              "68.47"
            ]
          },
          "metadata": {
            "tags": []
          },
          "execution_count": 19
        }
      ]
    },
    {
      "cell_type": "markdown",
      "metadata": {
        "id": "RWB9OD-4-Y0q"
      },
      "source": [
        "6. Найдите L2-норму вектора весов для полученного классификатора (заметьте, как на нее повлияла регуляризация). Ответ округлите до двух знаков после запятой.\n",
        "\n",
        "    Заметьте, что вектор стал более разреженным, и в нем появились нулевые элементы - это результат действия L1-регуляризации."
      ]
    },
    {
      "cell_type": "code",
      "metadata": {
        "id": "WKYcsHbBRuN0",
        "colab": {
          "base_uri": "https://localhost:8080/"
        },
        "outputId": "05fc2304-72c0-4a85-d09b-c9ca815f6105"
      },
      "source": [
        "sum = 0\n",
        "L2norm = 0\n",
        "for item in clf.coef_:\n",
        "  sum = sum + item*item\n",
        "for item in sum:\n",
        "  L2norm = L2norm + item\n",
        "print(round(math.sqrt(L2norm),2))\n"
      ],
      "execution_count": null,
      "outputs": [
        {
          "output_type": "stream",
          "text": [
            "19.91\n"
          ],
          "name": "stdout"
        }
      ]
    },
    {
      "cell_type": "markdown",
      "metadata": {
        "id": "WioWROTf-Y0t"
      },
      "source": [
        "7. Проверьте, как полученные классификаторы предсказывают не классы, а вероятности классов - так как мы работаем с логистической регрессией, это можно сделать. Посмотрите на вероятности, которые выдает первый классификатор (обученный с постоянным шагом градиентного спуска и без регуляризации) на тестовой части выборки. В этом вам поможет метод `predict_proba`. Результатом его работы будет список размера $N\\times 2$, где $N$ - это число объектов. В каждом столбце списка находятся вероятности соответствующего класса для объектов. Поэтому если вам нужен положительный класс, вас интересует последний столбец.\n",
        "\n",
        "    Какое получается значение AUC-ROC? Ответ округлите до двух знаков после запятой."
      ]
    },
    {
      "cell_type": "code",
      "metadata": {
        "id": "QkuOlmt6RvaD",
        "colab": {
          "base_uri": "https://localhost:8080/"
        },
        "outputId": "a272907b-dfbd-4f8f-8856-0d31eb153dc3"
      },
      "source": [
        "clf = SGDClassifier(max_iter=1000, learning_rate='constant', eta0=0.1, random_state=13,alpha=0,loss='log')\n",
        "clf.fit(X_train,y_train)\n",
        "from sklearn.metrics import roc_auc_score\n",
        "roc_auc_score(y_train, clf.predict_proba(X_train)[:, 1])"
      ],
      "execution_count": null,
      "outputs": [
        {
          "output_type": "execute_result",
          "data": {
            "text/plain": [
              "0.5"
            ]
          },
          "metadata": {
            "tags": []
          },
          "execution_count": 21
        }
      ]
    },
    {
      "cell_type": "markdown",
      "metadata": {
        "id": "48tbMm0E-Y0w"
      },
      "source": [
        "8. Посмотрите на вероятности, которые выдает второй классификатор (обученный с оптимальным шагом градиентного спуска и с регуляризацией) на тестовой части выборки. Как отличаются эти вероятности от вероятностей первого классификатора?\n",
        "\n",
        "   Посчитайте значение AUC-ROC второго классификатора. Ответ округлите до двух знаков после запятой."
      ]
    },
    {
      "cell_type": "code",
      "metadata": {
        "id": "71cqXdqBRw5B",
        "colab": {
          "base_uri": "https://localhost:8080/"
        },
        "outputId": "b5c10b03-deac-4ec0-b816-439d457eb298"
      },
      "source": [
        "clf = SGDClassifier(max_iter=1000, learning_rate='optimal', eta0=0.1, random_state=13,alpha=0.1,loss='log',penalty='l1')\n",
        "clf.fit(X_train,y_train)\n",
        "from sklearn.metrics import roc_auc_score\n",
        "print(round(roc_auc_score(y_train, clf.predict_proba(X_train)[:, 1]),2))\n",
        "\n"
      ],
      "execution_count": null,
      "outputs": [
        {
          "output_type": "stream",
          "text": [
            "0.71\n"
          ],
          "name": "stdout"
        }
      ]
    },
    {
      "cell_type": "code",
      "metadata": {
        "colab": {
          "base_uri": "https://localhost:8080/"
        },
        "id": "hDwv7xbCWq5B",
        "outputId": "ab2f5d58-613d-43b8-d582-95d2161c011a"
      },
      "source": [
        "from google.colab import drive\n",
        "drive.mount('/content/drive')"
      ],
      "execution_count": null,
      "outputs": [
        {
          "output_type": "stream",
          "text": [
            "Mounted at /content/drive\n"
          ],
          "name": "stdout"
        }
      ]
    },
    {
      "cell_type": "markdown",
      "metadata": {
        "id": "7P_Ap9jec0lC"
      },
      "source": [
        "9. Какой признак является самым важным по мнению лучшей модели (имеет наибольший по модулю коэффициент) для принятия решения?"
      ]
    },
    {
      "cell_type": "code",
      "metadata": {
        "id": "2AFsOXMYRyJg",
        "colab": {
          "base_uri": "https://localhost:8080/"
        },
        "outputId": "1e9b2acb-e7bb-498a-a207-d9cf44ee43b8"
      },
      "source": [
        "for item in clf.coef_[0]:\n",
        "  print(abs(item))\n",
        "\n"
      ],
      "execution_count": null,
      "outputs": [
        {
          "output_type": "stream",
          "text": [
            "18.749089644173225\n",
            "0.0\n",
            "3.56317522758753\n",
            "2.4707517614980996\n",
            "0.7202683397833803\n",
            "0.0\n",
            "0.0\n",
            "3.939926656694808\n",
            "0.0\n",
            "0.6735934834788498\n",
            "0.0\n",
            "3.096234035230421\n",
            "0.0\n"
          ],
          "name": "stdout"
        }
      ]
    },
    {
      "cell_type": "markdown",
      "metadata": {
        "id": "UD_yH4KT4aaA"
      },
      "source": [
        "**Первый признак - age**"
      ]
    }
  ]
}